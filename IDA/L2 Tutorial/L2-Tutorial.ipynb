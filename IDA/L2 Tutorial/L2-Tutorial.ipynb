{
 "cells": [
  {
   "cell_type": "markdown",
   "id": "5c8e90e1",
   "metadata": {},
   "source": [
    "# Introduction to Quality Data & Engineering with Python\n",
    "## Lecture 2 - Introduction to Pandas & NumPy Tutorial"
   ]
  },
  {
   "cell_type": "markdown",
   "id": "af976aa7",
   "metadata": {},
   "source": [
    "**H**                   : shows all keyboard shortcuts\n",
    "\n",
    "**Enter**\t\t    : Enter edit mode for the currently selected cell.\n",
    "\n",
    "**Enter + Shift**\t: Run the currently selected cell and move to the next one.\n",
    "\n",
    "**A**\t\t        : Add a new cell above the currently selected cell.\n",
    "\n",
    "**B**\t\t        : Add a new cell below the currently selected cell.\n",
    "\n",
    "**M**\t\t        : Change the current cell to Markdown.\n",
    "\n",
    "**Y**               : Change the current cell to Code.\n"
   ]
  },
  {
   "cell_type": "markdown",
   "id": "5f135a55",
   "metadata": {},
   "source": [
    "### Task1: Import Pandas library into your notebook."
   ]
  },
  {
   "cell_type": "code",
   "execution_count": null,
   "id": "44a97f7a",
   "metadata": {},
   "outputs": [],
   "source": []
  },
  {
   "cell_type": "markdown",
   "id": "dc5ef992",
   "metadata": {},
   "source": [
    "### Task2: Check the current version of the library."
   ]
  },
  {
   "cell_type": "code",
   "execution_count": null,
   "id": "b8a4bfe3",
   "metadata": {},
   "outputs": [],
   "source": []
  },
  {
   "cell_type": "markdown",
   "id": "9e0a2e06",
   "metadata": {},
   "source": [
    "### Task3: Download “Stars.csv” from the link belove and import into your notebook.\n",
    "\n",
    "https://tubcloud.tu-berlin.de/s/Byyrq9wpHrg5yKm/download/Stars.csv"
   ]
  },
  {
   "cell_type": "code",
   "execution_count": null,
   "id": "91368c71",
   "metadata": {},
   "outputs": [],
   "source": []
  },
  {
   "cell_type": "markdown",
   "id": "ccaeaba7",
   "metadata": {},
   "source": [
    "### Task4: Check the type of the DataFrame."
   ]
  },
  {
   "cell_type": "code",
   "execution_count": null,
   "id": "8d7fdfc2",
   "metadata": {},
   "outputs": [],
   "source": []
  },
  {
   "cell_type": "markdown",
   "id": "e2596cb3",
   "metadata": {},
   "source": [
    "### Task5: Check the data structure of the DataFrame.\n",
    "\t-How many columns does the data contain?\n",
    "\t-How many rows does the data contain?\n",
    "\t-What data types are present in the data?\n",
    "    \n",
    "#### Hint: dataframe.info()"
   ]
  },
  {
   "cell_type": "code",
   "execution_count": null,
   "id": "155edefb",
   "metadata": {},
   "outputs": [],
   "source": []
  },
  {
   "cell_type": "markdown",
   "id": "f47e292e",
   "metadata": {},
   "source": [
    "### Task6: Check the shape of the DataFrame.\n"
   ]
  },
  {
   "cell_type": "code",
   "execution_count": null,
   "id": "a9e6840a",
   "metadata": {},
   "outputs": [],
   "source": []
  },
  {
   "cell_type": "markdown",
   "id": "5618aa86",
   "metadata": {},
   "source": [
    "### Task7: Download “robotics_component.xlsx” from the link belove and import into your notebook.\n",
    "\n",
    "https://tubcloud.tu-berlin.de/s/JermLyzNEeMcS6G/download/robotics_component.xlsx"
   ]
  },
  {
   "cell_type": "code",
   "execution_count": null,
   "id": "466ca0b6",
   "metadata": {},
   "outputs": [],
   "source": []
  },
  {
   "cell_type": "markdown",
   "id": "e7b72140",
   "metadata": {},
   "source": [
    "### Task8: Check the type of the DataFrame."
   ]
  },
  {
   "cell_type": "code",
   "execution_count": null,
   "id": "a8e860ea",
   "metadata": {},
   "outputs": [],
   "source": []
  },
  {
   "cell_type": "markdown",
   "id": "aee8fce6",
   "metadata": {},
   "source": [
    "### Task9: Export “robotics_component.xlsx” to as a CSV file."
   ]
  },
  {
   "cell_type": "code",
   "execution_count": null,
   "id": "4246d3c6",
   "metadata": {},
   "outputs": [],
   "source": []
  },
  {
   "cell_type": "markdown",
   "id": "447b2681",
   "metadata": {},
   "source": [
    "### Task10: Import Numpy library into your notebook."
   ]
  },
  {
   "cell_type": "code",
   "execution_count": null,
   "id": "79d9165f",
   "metadata": {},
   "outputs": [],
   "source": []
  },
  {
   "cell_type": "markdown",
   "id": "b40fa134",
   "metadata": {},
   "source": [
    "### Task11: Check the current version of library."
   ]
  },
  {
   "cell_type": "code",
   "execution_count": null,
   "id": "35757dab",
   "metadata": {},
   "outputs": [],
   "source": []
  },
  {
   "cell_type": "markdown",
   "id": "ca559ed4",
   "metadata": {},
   "source": [
    "### Task12: Create a 1D array."
   ]
  },
  {
   "cell_type": "code",
   "execution_count": null,
   "id": "0cebb4d2",
   "metadata": {},
   "outputs": [],
   "source": []
  },
  {
   "cell_type": "markdown",
   "id": "13ec2f3f",
   "metadata": {},
   "source": [
    "### Task13: Create a 2D array."
   ]
  },
  {
   "cell_type": "code",
   "execution_count": null,
   "id": "ad74165f",
   "metadata": {},
   "outputs": [],
   "source": []
  },
  {
   "cell_type": "markdown",
   "id": "0815d475",
   "metadata": {},
   "source": [
    "### Task14: Create a 3D array."
   ]
  },
  {
   "cell_type": "code",
   "execution_count": null,
   "id": "f40c2011",
   "metadata": {},
   "outputs": [],
   "source": []
  },
  {
   "cell_type": "markdown",
   "id": "c7e4fad6",
   "metadata": {},
   "source": [
    "### Task15: Create a (3,4) array with zeros."
   ]
  },
  {
   "cell_type": "code",
   "execution_count": null,
   "id": "29da076a",
   "metadata": {},
   "outputs": [],
   "source": []
  },
  {
   "cell_type": "markdown",
   "id": "dd83052e",
   "metadata": {},
   "source": [
    "### Task16: Convert the following 1D array into a 2D array.\n",
    "\n",
    "#### Hint: array.reshape()"
   ]
  },
  {
   "cell_type": "code",
   "execution_count": null,
   "id": "8831faef",
   "metadata": {},
   "outputs": [],
   "source": [
    "arr = np.array([1, 2, 3, 4, 5, 6, 7, 8, 9, 10])\n",
    "arr"
   ]
  },
  {
   "cell_type": "code",
   "execution_count": null,
   "id": "a5ab4f13",
   "metadata": {},
   "outputs": [],
   "source": []
  },
  {
   "cell_type": "markdown",
   "id": "22cee786",
   "metadata": {},
   "source": [
    "### Task17: Convert the following 1D array into a 3D array.\n",
    "\n",
    "#### Hint: array.reshape()"
   ]
  },
  {
   "cell_type": "code",
   "execution_count": null,
   "id": "96aaf458",
   "metadata": {},
   "outputs": [],
   "source": [
    "arr = np.array([1, 2, 3, 4, 5, 6, 7, 8, 9, 10, 11, 12])\n",
    "arr"
   ]
  },
  {
   "cell_type": "code",
   "execution_count": null,
   "id": "e84b8d6e",
   "metadata": {},
   "outputs": [],
   "source": []
  },
  {
   "cell_type": "markdown",
   "id": "2c82cbe1",
   "metadata": {},
   "source": [
    "### Task18: Import pickle library into your notebook."
   ]
  },
  {
   "cell_type": "code",
   "execution_count": null,
   "id": "dbae7cca",
   "metadata": {},
   "outputs": [],
   "source": []
  },
  {
   "cell_type": "markdown",
   "id": "072f1cd5",
   "metadata": {},
   "source": [
    "### Task19: Create a Pickle File"
   ]
  },
  {
   "cell_type": "code",
   "execution_count": null,
   "id": "6498f30e",
   "metadata": {},
   "outputs": [],
   "source": []
  },
  {
   "cell_type": "code",
   "execution_count": null,
   "id": "cd9ebc17",
   "metadata": {},
   "outputs": [],
   "source": []
  },
  {
   "cell_type": "markdown",
   "id": "a3c213a8",
   "metadata": {},
   "source": [
    "### Task20: Read a Pickle File"
   ]
  },
  {
   "cell_type": "code",
   "execution_count": null,
   "id": "a5d4e284",
   "metadata": {},
   "outputs": [],
   "source": []
  },
  {
   "cell_type": "markdown",
   "id": "f4e9b334",
   "metadata": {},
   "source": [
    "### Task20: Import json library into your notebook.\n"
   ]
  },
  {
   "cell_type": "code",
   "execution_count": null,
   "id": "00eecad2",
   "metadata": {},
   "outputs": [],
   "source": []
  },
  {
   "cell_type": "markdown",
   "id": "861cb899",
   "metadata": {},
   "source": [
    "### Task21: Read JSON File into a Pandas DataFrame"
   ]
  },
  {
   "cell_type": "code",
   "execution_count": null,
   "id": "a0beb8d8",
   "metadata": {},
   "outputs": [],
   "source": [
    "#Suppose you have a JSON file named sample_data.json with the following content:\n",
    "\n",
    "[\n",
    "    {\"name\": \"Alice\", \"age\": 30, \"city\": \"New York\"},\n",
    "    {\"name\": \"Bob\", \"age\": 25, \"city\": \"Los Angeles\"},\n",
    "    {\"name\": \"Charlie\", \"age\": 35, \"city\": \"Chicago\"}\n",
    "]"
   ]
  },
  {
   "cell_type": "code",
   "execution_count": null,
   "id": "406bd3a0",
   "metadata": {},
   "outputs": [],
   "source": []
  },
  {
   "cell_type": "code",
   "execution_count": null,
   "id": "6dae89d9",
   "metadata": {},
   "outputs": [],
   "source": []
  }
 ],
 "metadata": {
  "kernelspec": {
   "display_name": "Python 3 (ipykernel)",
   "language": "python",
   "name": "python3"
  },
  "language_info": {
   "codemirror_mode": {
    "name": "ipython",
    "version": 3
   },
   "file_extension": ".py",
   "mimetype": "text/x-python",
   "name": "python",
   "nbconvert_exporter": "python",
   "pygments_lexer": "ipython3",
   "version": "3.10.9"
  }
 },
 "nbformat": 4,
 "nbformat_minor": 5
}
