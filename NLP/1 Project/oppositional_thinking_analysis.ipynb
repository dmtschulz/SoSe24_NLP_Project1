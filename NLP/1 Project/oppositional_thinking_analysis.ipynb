{
 "cells": [
  {
   "cell_type": "markdown",
   "metadata": {},
   "source": [
    "## Import libs"
   ]
  },
  {
   "cell_type": "code",
   "execution_count": null,
   "metadata": {},
   "outputs": [],
   "source": [
    "import json\n",
    "import nltk\n",
    "import os\n",
    "import pandas as pd\n",
    "from sklearn.feature_extraction.text import CountVectorizer, TfidfVectorizer\n",
    "from sklearn.metrics import f1_score\n",
    "import torch\n",
    "import torch.nn as nn\n",
    "import torch.optim as optim\n",
    "from torch.utils.data import Dataset, DataLoader\n",
    "import gensim.downloader as api\n",
    "from sklearn.metrics import accuracy_score\n",
    "import gc\n",
    "from insights import load_data, extract_data, get_insights, plot_histogram, plot_bar_chart\n",
    "from preprocessing import preprocessed_with_stopwords_with_lemming, preprocessed_without_stopwords_with_lemming, preprocessed_with_stopwords_without_lemming, preprocessed_without_stopwords_without_lemming\n",
    "from classification import train_and_evaluate_nb, train_and_evaluate_ffnn, load_json_data, prepare_train_test_split, move_samples_between_sets\n",
    "# pip install scipy==1.12 for word2vec"
   ]
  },
  {
   "cell_type": "markdown",
   "metadata": {},
   "source": [
    "## Task 1: Extract insights from data"
   ]
  },
  {
   "cell_type": "code",
   "execution_count": null,
   "metadata": {},
   "outputs": [],
   "source": [
    "# Load and extract data\n",
    "data = load_data('data/Oppositional_thinking_analysis_dataset.json')\n",
    "\n",
    "# Extract text and category from the data.\n",
    "data_extracted = extract_data(data)\n",
    "\n",
    "# Convert to DataFrame\n",
    "df = pd.DataFrame(data_extracted)\n",
    "print(df.head())\n",
    "\n",
    "# Adding new features\n",
    "df = get_insights(df)\n",
    "\n",
    "# Plot distributions and bar charts. (df, category, title, xlabel, ylabel):\n",
    "plot_histogram(df, 'text_length', 'Text Length Distribution by Category', 'Number of Words', 'Frequency')\n",
    "plot_bar_chart(df, 'unique_word_count', 'Average Number of Unique Words by Category', 'Average Unique Words')\n",
    "plot_bar_chart(df, 'uppercase_word_count', 'Average Number of Uppercase Words by Category', 'Average Uppercase Words')\n",
    "plot_bar_chart(df, 'exclamation_count', 'Average Number of Exclamation Marks by Category', 'Average Exclamation Marks')\n",
    "\n",
    "# Plot feature-based bar charts\n",
    "plot_bar_chart(df, 'contains_link', 'Proportion of Texts Containing Links by Category', 'Proportion Containing Links')\n",
    "plot_bar_chart(df, 'contains_parentheses', 'Proportion of Texts Containing Parentheses by Category', 'Proportion Containing Parentheses')\n",
    "plot_bar_chart(df, 'contains_quotation_marks', 'Proportion of Texts Containing Quotation Marks by Category', 'Proportion Containing Quotation Marks')\n",
    "plot_bar_chart(df, 'contains_5G', 'Proportion of Texts Containing \"5G\" or \"5 G\" by Category', 'Proportion Containing \"5G\" or \"5 G\"')\n",
    "plot_bar_chart(df, 'contains_bill_gates', 'Proportion of Texts Containing \"Bill Gates\" by Category', 'Proportion Containing \"Bill Gates\"')"
   ]
  },
  {
   "cell_type": "markdown",
   "metadata": {},
   "source": [
    "## Task 2: Pre-processing"
   ]
  },
  {
   "cell_type": "markdown",
   "metadata": {},
   "source": [
    "### Load the input text file and extract texts and labels"
   ]
  },
  {
   "cell_type": "code",
   "execution_count": null,
   "metadata": {},
   "outputs": [],
   "source": [
    "# Download necessary NLTK data\n",
    "nltk.download('stopwords')\n",
    "nltk.download('punkt')\n",
    "\n",
    "with open('data/Oppositional_thinking_analysis_dataset.json', 'r', encoding='utf-8') as file:\n",
    "    data = json.load(file)\n",
    "\n",
    "# Extract text and category\n",
    "data_extracted = [{'text': entry['text'], 'category': entry['category']} for entry in data]\n",
    "\n",
    "category_mapping = {\n",
    "    'CRITICAL': 0,     \n",
    "    'CONSPIRACY': 1\n",
    "}"
   ]
  },
  {
   "cell_type": "markdown",
   "metadata": {},
   "source": [
    "### Preprocess the input texts in different ways and save each example in a json file"
   ]
  },
  {
   "cell_type": "code",
   "execution_count": null,
   "metadata": {},
   "outputs": [],
   "source": [
    "# 3 min\n",
    "def preprocess_and_save(data, preprocess_func, file_name):\n",
    "    df = pd.DataFrame(data)\n",
    "    df['preprocessed_text'] = df['text'].apply(preprocess_func)\n",
    "    df = df.drop('text', axis=1)\n",
    "    df['category'] = df['category'].apply(lambda x: category_mapping[x])\n",
    "    df.to_json(file_name, orient='records', lines=True, force_ascii=False)\n",
    "    print(df.head())\n",
    "    return df\n",
    "\n",
    "# List of preprocessing configurations\n",
    "preprocessing_configs = [\n",
    "    ('preprocessed_with_stopwords_with_lemming', preprocessed_with_stopwords_with_lemming, 'data/preprocessed_with_stopwords_with_lemming.json'),\n",
    "    ('preprocessed_without_stopwords_with_lemming', preprocessed_without_stopwords_with_lemming, 'data/preprocessed_without_stopwords_with_lemming.json'),\n",
    "    ('preprocessed_with_stopwords_without_lemming', preprocessed_with_stopwords_without_lemming, 'data/preprocessed_with_stopwords_without_lemming.json'),\n",
    "    ('preprocessed_without_stopwords_without_lemming', preprocessed_without_stopwords_without_lemming, 'data/preprocessed_without_stopwords_without_lemming.json')\n",
    "]\n",
    "\n",
    "# Dictionary to store preprocessed DataFrames\n",
    "preprocessed_data = {}\n",
    "\n",
    "# Apply preprocessing and save results\n",
    "for name, func, file_name in preprocessing_configs:\n",
    "    preprocessed_data[name] = preprocess_and_save(data_extracted, func, file_name)"
   ]
  },
  {
   "cell_type": "markdown",
   "metadata": {},
   "source": [
    "## Task 3: Vectorization and Text classification"
   ]
  },
  {
   "cell_type": "markdown",
   "metadata": {},
   "source": [
    "### Load data with different pre-processing steps"
   ]
  },
  {
   "cell_type": "code",
   "execution_count": null,
   "metadata": {},
   "outputs": [],
   "source": [
    "# Load the preprocessed JSON data (from Task 2)\n",
    "data_files = [\n",
    "    'data/preprocessed_with_stopwords_with_lemming.json',\n",
    "    'data/preprocessed_without_stopwords_with_lemming.json',\n",
    "    'data/preprocessed_with_stopwords_without_lemming.json',\n",
    "    'data/preprocessed_without_stopwords_without_lemming.json'\n",
    "]"
   ]
  },
  {
   "cell_type": "markdown",
   "metadata": {},
   "source": [
    "### Define different vectorization Models"
   ]
  },
  {
   "cell_type": "code",
   "execution_count": null,
   "metadata": {},
   "outputs": [],
   "source": [
    "# Vectorizers to compare\n",
    "vectorizers = [\n",
    "    (TfidfVectorizer(), 'TfidfVectorizer'),\n",
    "    (CountVectorizer(ngram_range=(1, 1)), 'CountVectorizer1'), # Unigrams\n",
    "    (CountVectorizer(ngram_range=(2, 2)), 'CountVectorizer2'), # Bigrams\n",
    "    (CountVectorizer(ngram_range=(3, 3)), 'CountVectorizer3'),  # Trigrams\n",
    "    (CountVectorizer(ngram_range=(4, 4)), 'CountVectorizer4')  # Fourgram\n",
    "]"
   ]
  },
  {
   "cell_type": "markdown",
   "metadata": {},
   "source": [
    "### Naïve Bayes Model with different vectorizers and pre-processing steps"
   ]
  },
  {
   "cell_type": "markdown",
   "metadata": {},
   "source": [
    "#### Train Naïve Bayes Model"
   ]
  },
  {
   "cell_type": "code",
   "execution_count": null,
   "metadata": {},
   "outputs": [],
   "source": [
    "# Initialize dictionaries to store results and misclassifications\n",
    "results = {}\n",
    "misclassifications = {}\n",
    "nb_res_path = \"data/nb_results\"\n",
    "os.makedirs(nb_res_path, exist_ok=True)\n",
    "\n",
    "# Iterate over each data file and each vectorizer\n",
    "for data_file in data_files:\n",
    "    # Load data\n",
    "    data = load_json_data(data_file)\n",
    "    \n",
    "    # Prepare train and test sets\n",
    "    X_train, X_test, y_train, y_test = prepare_train_test_split(data, \"nb\")\n",
    "    \n",
    "    print(f\"\\nData file: {data_file}\")\n",
    "    print(\"Original train set length:\", len(X_train))\n",
    "    print(\"Original test set length:\", len(X_test))\n",
    "    \n",
    "    # Move samples of the 'CRITICAL' category (labeled as 0)\n",
    "    X_train, y_train, X_test, y_test = move_samples_between_sets(X_train, y_train, X_test, y_test)\n",
    "    \n",
    "    print(\"\\nAfter undersampling:\")\n",
    "    print(\"Train set length:\", len(X_train))\n",
    "    print(\"Test set length:\", len(X_test))\n",
    "    print(\"Train and test sets loaded for preprocessed data file. Training with this preprocessed file:\\n\")\n",
    "    print(20*\"-\")\n",
    "    # Dictionary to store classification reports and misclassification info\n",
    "    results[data_file] = {}\n",
    "    misclassifications[data_file] = {}\n",
    "    \n",
    "    # Iterate over each vectorizer for this data file\n",
    "    for vectorizer, vectorizer_name in vectorizers:\n",
    "        report, misclassified_data_nb, misclassified_count, total = train_and_evaluate_nb(vectorizer, X_train['preprocessed_text'], X_test['preprocessed_text'], y_train, y_test, data_file, vectorizer_name)\n",
    "        results[data_file][vectorizer_name] = report\n",
    "        misclassifications[data_file][vectorizer_name] = (misclassified_count, total)\n",
    "        # Save misclassified examples to JSON file\n",
    "        with open(f\"{nb_res_path}/{vectorizer_name}_misclassified.json\", 'w') as f:\n",
    "            json.dump(misclassified_data_nb, f, indent=4)\n",
    "    print(150*\"*\")\n"
   ]
  },
  {
   "cell_type": "markdown",
   "metadata": {},
   "source": [
    "#### Visualize Statistics for Bayes"
   ]
  },
  {
   "cell_type": "code",
   "execution_count": null,
   "metadata": {},
   "outputs": [],
   "source": [
    "import matplotlib.pyplot as plt\n",
    "import seaborn as sns\n",
    "\n",
    "# Convert results to a DataFrame for visualization\n",
    "def results_to_dataframe(results):\n",
    "    records = []\n",
    "    for data_file, vectorizer_reports in results.items():\n",
    "        for vectorizer_name, report in vectorizer_reports.items():\n",
    "            for metric in ['precision', 'recall', 'f1-score']:\n",
    "                for label, scores in report.items():\n",
    "                    if isinstance(scores, dict):\n",
    "                        records.append({\n",
    "                            'Data File': data_file,\n",
    "                            'Vectorizer': vectorizer_name,\n",
    "                            'Label': label,\n",
    "                            'Metric': metric,\n",
    "                            'Score': scores[metric]\n",
    "                        })\n",
    "    return pd.DataFrame(records)\n",
    "\n",
    "# Create DataFrame from results\n",
    "df_results = results_to_dataframe(results)\n",
    "\n",
    "# Create a DataFrame for misclassifications\n",
    "misclass_records = []\n",
    "for data_file, vectorizer_data in misclassifications.items():\n",
    "    for vectorizer_name, (misclassified, total) in vectorizer_data.items():\n",
    "        misclass_records.append({\n",
    "            'Data File': data_file,\n",
    "            'Vectorizer': vectorizer_name,\n",
    "            'Misclassified': misclassified,\n",
    "            'Total': total\n",
    "        })\n",
    "df_misclassifications = pd.DataFrame(misclass_records)\n",
    "\n",
    "# Plotting the scores\n",
    "plt.figure(figsize=(14, 8))\n",
    "score_plot = sns.barplot(x='Vectorizer', y='Score', hue='Data File', data=df_results, errorbar=None)\n",
    "\n",
    "# Annotate bars with score values\n",
    "for p in score_plot.patches:\n",
    "    score_plot.annotate(format(p.get_height(), '.2f'), \n",
    "                        (p.get_x() + p.get_width() / 2., p.get_height()), \n",
    "                        ha='center', va='center', \n",
    "                        xytext=(0, 9), \n",
    "                        textcoords='offset points')\n",
    "\n",
    "plt.title('Scores Comparison per Vectorizer and Data File')\n",
    "plt.xlabel('Vectorizer')\n",
    "plt.ylabel('Score')\n",
    "plt.legend(title='Data File', bbox_to_anchor=(1.05, 1), loc='upper left')\n",
    "\n",
    "plt.show()\n",
    "\n",
    "# Plotting the misclassifications (unchanged from previous code)\n",
    "plt.figure(figsize=(14, 8))\n",
    "misclass_plot = sns.barplot(x='Vectorizer', y='Misclassified', hue='Data File', data=df_misclassifications, errorbar=None)\n",
    "\n",
    "# Annotate bars with misclassification values\n",
    "for p in misclass_plot.patches:\n",
    "    misclass_plot.annotate(format(p.get_height(), '.0f'), \n",
    "                           (p.get_x() + p.get_width() / 2., p.get_height()), \n",
    "                           ha='center', va='center', \n",
    "                           xytext=(0, 9), \n",
    "                           textcoords='offset points')\n",
    "\n",
    "plt.title('Number of Misclassifications per Vectorizer and Data File')\n",
    "plt.xlabel('Vectorizer')\n",
    "plt.ylabel('Number of Misclassifications')\n",
    "plt.legend(bbox_to_anchor=(1.05, 1), loc='upper left')\n",
    "plt.show()\n",
    "\n",
    "# Additional visualization example: Heatmap (unchanged from previous code)\n",
    "pivot_table = df_results.pivot_table(values='Score', index=['Data File', 'Vectorizer'], columns='Metric')\n",
    "sns.heatmap(pivot_table, annot=True, cmap='coolwarm', cbar=True)\n",
    "plt.title('Heatmap of Vectorizer Performance')\n",
    "plt.show()"
   ]
  },
  {
   "cell_type": "code",
   "execution_count": null,
   "metadata": {},
   "outputs": [],
   "source": [
    "# Saved files with misscalissified texts"
   ]
  },
  {
   "cell_type": "markdown",
   "metadata": {},
   "source": [
    "### FFNN Models"
   ]
  },
  {
   "cell_type": "markdown",
   "metadata": {},
   "source": [
    "##### Define FFNN with first 4 vectorizers."
   ]
  },
  {
   "cell_type": "code",
   "execution_count": null,
   "metadata": {},
   "outputs": [],
   "source": [
    "# Hyperparameters\n",
    "#input_size = 0  # vectorizers output\n",
    "hidden_size1 = 128\n",
    "hidden_size2 = 64\n",
    "output_size = 1\n",
    "dropout_rate = 0.4\n",
    "learning_rate = 0.001\n",
    "batch_size = 32\n",
    "epochs = 50\n",
    "\n",
    "# Device configuration\n",
    "device = torch.device('cuda' if torch.cuda.is_available() else 'cpu')\n",
    "\n",
    "# PyTorch Dataset class\n",
    "class TextDataset(Dataset):\n",
    "    def __init__(self, X, y, vectorizer):\n",
    "        self.X = X\n",
    "        self.y = y\n",
    "        self.vectorizer = vectorizer\n",
    "    \n",
    "    def __len__(self):\n",
    "        return len(self.X)\n",
    "    \n",
    "    def __getitem__(self, idx):\n",
    "        text = self.X.iloc[idx]\n",
    "        label = self.y.iloc[idx]\n",
    "        vectorized_text = self.vectorizer.transform([text]).toarray().squeeze()\n",
    "        return torch.FloatTensor(vectorized_text), torch.tensor(label, dtype=torch.float32)\n",
    "    \n",
    "# FFNN Model class\n",
    "class FFNN(nn.Module):\n",
    "    def __init__(self, input_size, hidden_size1, hidden_size2, output_size, dropout_rate=0.5):\n",
    "        super(FFNN, self).__init__()\n",
    "        self.fc1 = nn.Linear(input_size, hidden_size1)\n",
    "        self.relu1 = nn.ReLU()\n",
    "        self.dropout1 = nn.Dropout(dropout_rate)\n",
    "        self.fc2 = nn.Linear(hidden_size1, hidden_size2)\n",
    "        self.relu2 = nn.ReLU()\n",
    "        self.dropout2 = nn.Dropout(dropout_rate)\n",
    "        self.fc3 = nn.Linear(hidden_size2, output_size)\n",
    "        self.sigmoid = nn.Sigmoid()\n",
    "    \n",
    "    def forward(self, x):\n",
    "        x = self.fc1(x)\n",
    "        x = self.relu1(x)\n",
    "        x = self.dropout1(x)\n",
    "        x = self.fc2(x)\n",
    "        x = self.relu2(x)\n",
    "        x = self.dropout2(x)\n",
    "        x = self.fc3(x)\n",
    "        x = self.sigmoid(x)\n",
    "        return x\n"
   ]
  },
  {
   "cell_type": "markdown",
   "metadata": {},
   "source": [
    "##### Train and evaluate FFNN Model with first 4 vectorizers."
   ]
  },
  {
   "cell_type": "code",
   "execution_count": null,
   "metadata": {},
   "outputs": [],
   "source": [
    "torch.cuda.empty_cache()\n",
    "gc.collect()\n",
    "\n",
    "# Iterate over each data file and each vectorizer\n",
    "for data_file in data_files:\n",
    "    data = load_json_data(data_file)\n",
    "    \n",
    "    X_train, X_test, y_train, y_test = prepare_train_test_split(data, \"ffnn\")\n",
    "    \n",
    "    X_train, y_train, X_test, y_test = move_samples_between_sets(X_train, y_train, X_test, y_test)\n",
    "    \n",
    "    for vectorizer, vectorizer_name in vectorizers:\n",
    "        X_train_vec = vectorizer.fit_transform(X_train).toarray()\n",
    "        X_test_vec = vectorizer.transform(X_test).toarray()\n",
    "        \n",
    "        # Create datasets and dataloaders\n",
    "        train_dataset = TextDataset(X_train, y_train, vectorizer)\n",
    "        test_dataset = TextDataset(X_test, y_test, vectorizer)\n",
    "        \n",
    "        train_loader = DataLoader(train_dataset, batch_size=batch_size, shuffle=True)\n",
    "        test_loader = DataLoader(test_dataset, batch_size=batch_size, shuffle=False)\n",
    "        \n",
    "        print(f\"\\nData file: {data_file} | Vectorizer: {vectorizer_name}\")\n",
    "        \n",
    "        # Initialize model, criterion, and optimizer\n",
    "        model = FFNN(input_size=X_train_vec.shape[1],\n",
    "                     hidden_size1=hidden_size1,\n",
    "                     hidden_size2=hidden_size2,\n",
    "                     output_size=output_size,\n",
    "                     dropout_rate=dropout_rate)\n",
    "        \n",
    "        model.to(device)\n",
    "        \n",
    "        criterion = nn.BCELoss()\n",
    "        optimizer = optim.Adam(model.parameters(), lr=learning_rate)\n",
    "        \n",
    "        # Train and evaluate FFNN model\n",
    "        train_and_evaluate_ffnn(model, train_loader, test_loader, criterion, optimizer, device)"
   ]
  },
  {
   "cell_type": "markdown",
   "metadata": {},
   "source": [
    "##### Define FFNN Model for word2vec."
   ]
  },
  {
   "cell_type": "code",
   "execution_count": null,
   "metadata": {},
   "outputs": [],
   "source": [
    "# Example usage:\n",
    "input_size = 300\n",
    "hidden_size1 = 128\n",
    "hidden_size2 = 64\n",
    "output_size = 1  # Single output for binary classification\n",
    "dropout_rate = 0.5\n",
    "\n",
    "class TextDataset(Dataset):\n",
    "    def __init__(self, texts, labels):\n",
    "        self.texts = texts\n",
    "        self.labels = labels\n",
    "\n",
    "    def __len__(self):\n",
    "        return len(self.labels)\n",
    "\n",
    "    def __getitem__(self, idx):\n",
    "        text = self.texts[idx]\n",
    "        label = self.labels[idx]\n",
    "        return torch.tensor(text, dtype=torch.float32), torch.tensor(label, dtype=torch.float32)\n",
    "\n",
    "class FFNN(nn.Module):\n",
    "    def __init__(self, input_size, hidden_size1, hidden_size2, output_size, dropout_rate=0.5):\n",
    "        super(FFNN, self).__init__()\n",
    "        self.fc1 = nn.Linear(input_size, hidden_size1)\n",
    "        self.relu1 = nn.ReLU()\n",
    "        self.dropout1 = nn.Dropout(dropout_rate)\n",
    "        self.fc2 = nn.Linear(hidden_size1, hidden_size2)\n",
    "        self.relu2 = nn.ReLU()\n",
    "        self.dropout2 = nn.Dropout(dropout_rate)\n",
    "        self.fc3 = nn.Linear(hidden_size2, output_size)\n",
    "    \n",
    "    def forward(self, x):\n",
    "        x = self.fc1(x)\n",
    "        x = self.relu1(x)\n",
    "        x = self.dropout1(x)\n",
    "        x = self.fc2(x)\n",
    "        x = self.relu2(x)\n",
    "        x = self.dropout2(x)\n",
    "        x = self.fc3(x)\n",
    "        return x  # No sigmoid here, use BCEWithLogitsLoss for the loss function"
   ]
  },
  {
   "cell_type": "code",
   "execution_count": null,
   "metadata": {},
   "outputs": [],
   "source": [
    "# Define training function\n",
    "def train(model, criterion, optimizer, train_loader, epochs=10):\n",
    "    model.to(device).train()\n",
    "    for epoch in range(epochs):\n",
    "        running_loss = 0.0\n",
    "        for inputs, labels in train_loader:\n",
    "            inputs, labels = inputs.to(device), labels.to(device).unsqueeze(1)  # Ensure labels have correct shape\n",
    "            \n",
    "            optimizer.zero_grad()\n",
    "            \n",
    "            outputs = model(inputs)\n",
    "            loss = criterion(outputs, labels)\n",
    "            loss.backward()\n",
    "            optimizer.step()\n",
    "            \n",
    "            running_loss += loss.item()\n",
    "        print(f'Epoch {epoch+1}/{epochs}, Loss: {running_loss / len(train_loader)}')\n",
    "\n",
    "# Define evaluation function\n",
    "def evaluate(model, test_loader):\n",
    "    model.to(device).train()\n",
    "    all_predictions = []\n",
    "    all_labels = []\n",
    "    with torch.no_grad():\n",
    "        for inputs, labels in test_loader:\n",
    "            inputs, labels = inputs.to(device), labels.to(device)\n",
    "            outputs = model(inputs)\n",
    "            predicted = torch.round(torch.sigmoid(outputs))  # Apply sigmoid to outputs\n",
    "            all_predictions.extend(predicted.cpu().numpy())\n",
    "            all_labels.extend(labels.cpu().numpy())\n",
    "    accuracy = accuracy_score(all_labels, all_predictions)\n",
    "    f1 = f1_score(all_labels, all_predictions)\n",
    "    misclassified = len(all_labels) - accuracy_score(all_labels, all_predictions, normalize=False)\n",
    "    print(f'Accuracy: {accuracy}, F1 Score: {f1}, Misclassified Samples: {misclassified}')"
   ]
  },
  {
   "cell_type": "code",
   "execution_count": null,
   "metadata": {},
   "outputs": [],
   "source": [
    "device = torch.device('cuda' if torch.cuda.is_available() else 'cpu')\n",
    "print(device)\n",
    "model = FFNN(input_size, hidden_size1, hidden_size2, output_size, dropout_rate)\n",
    "print(model)\n",
    "# Device configuration"
   ]
  },
  {
   "cell_type": "markdown",
   "metadata": {},
   "source": [
    "##### Data Preparation Functions for word2vec"
   ]
  },
  {
   "cell_type": "code",
   "execution_count": null,
   "metadata": {},
   "outputs": [],
   "source": [
    "# Load Word2Vec model (you can replace 'word2vec-google-news-300' with your preferred model)\n",
    "word2vec_model = api.load('word2vec-google-news-300')"
   ]
  },
  {
   "cell_type": "code",
   "execution_count": null,
   "metadata": {},
   "outputs": [],
   "source": [
    "# Function to convert text to Word2Vec embeddings\n",
    "def text_to_w2v_vector(text):\n",
    "    words = text.split()\n",
    "    vectors = [word2vec_model.get_vector(word) for word in words if word in word2vec_model.key_to_index]\n",
    "    if vectors:\n",
    "        return torch.mean(torch.stack([torch.tensor(v) for v in vectors]), dim=0)\n",
    "    else:\n",
    "        return torch.zeros(300)  # Return zero vector if no words have embeddings"
   ]
  },
  {
   "cell_type": "markdown",
   "metadata": {},
   "source": [
    "##### Training and Evaluating FFNN with word2vec as vectorizer"
   ]
  },
  {
   "cell_type": "code",
   "execution_count": null,
   "metadata": {},
   "outputs": [],
   "source": [
    "batch_size = 32\n",
    "epochs = 20\n",
    "\n",
    "print(\"word2vec\")\n",
    "for data_file in data_files:\n",
    "    print(100*\"*\")\n",
    "    print(data_file)\n",
    "    data = load_json_data(data_file)\n",
    "    X_train, X_test, y_train, y_test = prepare_train_test_split(data, \"m\")\n",
    "    X_train, y_train, X_test, y_test = move_samples_between_sets(X_train, y_train, X_test, y_test)\n",
    "\n",
    "    # Convert train and test data to Word2Vec embeddings\n",
    "    X_train_w2v = torch.stack([text_to_w2v_vector(text) for text in X_train])\n",
    "    X_test_w2v = torch.stack([text_to_w2v_vector(text) for text in X_test])\n",
    "\n",
    "    # Convert labels to tensors\n",
    "    y_train_tensor = torch.tensor(y_train.values)\n",
    "    y_test_tensor = torch.tensor(y_test.values)\n",
    "    # Create datasets\n",
    "    train_dataset = TextDataset(X_train_w2v, y_train_tensor)\n",
    "    test_dataset = TextDataset(X_test_w2v, y_test_tensor)\n",
    "\n",
    "    # Create data loaders\n",
    "    train_loader = DataLoader(train_dataset, batch_size=32, shuffle=True)\n",
    "    test_loader = DataLoader(test_dataset, batch_size=32, shuffle=False)\n",
    "    # Initialize loss function and optimizer\n",
    "    criterion = nn.BCEWithLogitsLoss()\n",
    "    optimizer = optim.Adam(model.parameters(), lr=0.001)\n",
    "\n",
    "    # Train the model\n",
    "    train(model, criterion, optimizer, train_loader, epochs)\n",
    "\n",
    "    # Evaluate the model\n",
    "    evaluate(model, test_loader)\n"
   ]
  },
  {
   "cell_type": "markdown",
   "metadata": {},
   "source": [
    "## Task 4: Textual similarity"
   ]
  },
  {
   "cell_type": "code",
   "execution_count": null,
   "metadata": {},
   "outputs": [],
   "source": []
  },
  {
   "cell_type": "markdown",
   "metadata": {},
   "source": [
    "### Bonus Task: Textual similarity"
   ]
  },
  {
   "cell_type": "code",
   "execution_count": null,
   "metadata": {},
   "outputs": [],
   "source": []
  }
 ],
 "metadata": {
  "kernelspec": {
   "display_name": "Python 3",
   "language": "python",
   "name": "python3"
  },
  "language_info": {
   "codemirror_mode": {
    "name": "ipython",
    "version": 3
   },
   "file_extension": ".py",
   "mimetype": "text/x-python",
   "name": "python",
   "nbconvert_exporter": "python",
   "pygments_lexer": "ipython3",
   "version": "3.12.3"
  }
 },
 "nbformat": 4,
 "nbformat_minor": 2
}
