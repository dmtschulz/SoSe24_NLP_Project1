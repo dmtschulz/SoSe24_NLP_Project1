{
 "cells": [
  {
   "cell_type": "markdown",
   "id": "4edaaaca",
   "metadata": {},
   "source": [
    "# Introduction to Quality Data & Engineering with Python\n",
    "## Lecture 3 - Selecting and Filtering Tutorial"
   ]
  },
  {
   "cell_type": "markdown",
   "id": "4c6726bd",
   "metadata": {},
   "source": [
    "## Numpy"
   ]
  },
  {
   "cell_type": "markdown",
   "id": "8a384fd3",
   "metadata": {},
   "source": [
    "### Task1: Import Numpy library into your notebook."
   ]
  },
  {
   "cell_type": "code",
   "execution_count": null,
   "id": "98b5c160",
   "metadata": {},
   "outputs": [],
   "source": []
  },
  {
   "cell_type": "markdown",
   "id": "21bbafd2",
   "metadata": {},
   "source": [
    "### Task2: Create a 1D numpy array\n",
    "\n",
    "output: array([1, 2, 3, 4, 5, 6, 7, 8, 9])"
   ]
  },
  {
   "cell_type": "code",
   "execution_count": null,
   "id": "744c2a66",
   "metadata": {},
   "outputs": [],
   "source": []
  },
  {
   "cell_type": "code",
   "execution_count": null,
   "id": "dc1dc152",
   "metadata": {},
   "outputs": [],
   "source": []
  },
  {
   "cell_type": "markdown",
   "id": "fd44c70e",
   "metadata": {},
   "source": [
    "### Task3: Access the first element of the array"
   ]
  },
  {
   "cell_type": "code",
   "execution_count": null,
   "id": "e56c786c",
   "metadata": {},
   "outputs": [],
   "source": []
  },
  {
   "cell_type": "markdown",
   "id": "4b455a83",
   "metadata": {},
   "source": [
    "### Task4: Access the last element of the array"
   ]
  },
  {
   "cell_type": "code",
   "execution_count": null,
   "id": "4014ed02",
   "metadata": {},
   "outputs": [],
   "source": []
  },
  {
   "cell_type": "markdown",
   "id": "961cf771",
   "metadata": {},
   "source": [
    "### Task5: Access the first two element of the array"
   ]
  },
  {
   "cell_type": "code",
   "execution_count": null,
   "id": "8fa2664e",
   "metadata": {},
   "outputs": [],
   "source": []
  },
  {
   "cell_type": "markdown",
   "id": "47445e39",
   "metadata": {},
   "source": [
    "### Task5: Create a 2D numpy array\n",
    "\n",
    "output: array([[ 1,  2,  3,  4],\n",
    "               [ 5,  6,  7,  8],\n",
    "               [ 9, 10, 11, 12]])"
   ]
  },
  {
   "cell_type": "code",
   "execution_count": null,
   "id": "86d11aa4",
   "metadata": {},
   "outputs": [],
   "source": []
  },
  {
   "cell_type": "code",
   "execution_count": null,
   "id": "291119ba",
   "metadata": {},
   "outputs": [],
   "source": []
  },
  {
   "cell_type": "markdown",
   "id": "2cb953c3",
   "metadata": {},
   "source": [
    "### Task6: Accessing an element at specific index"
   ]
  },
  {
   "cell_type": "code",
   "execution_count": null,
   "id": "22583d42",
   "metadata": {},
   "outputs": [],
   "source": []
  },
  {
   "cell_type": "code",
   "execution_count": null,
   "id": "40a400ab",
   "metadata": {},
   "outputs": [],
   "source": []
  },
  {
   "cell_type": "markdown",
   "id": "f55b7e0e",
   "metadata": {},
   "source": [
    "### Task7: Slice rows from index 1 to 2 and all columns"
   ]
  },
  {
   "cell_type": "code",
   "execution_count": null,
   "id": "f737eeed",
   "metadata": {
    "scrolled": false
   },
   "outputs": [],
   "source": []
  },
  {
   "cell_type": "markdown",
   "id": "2144006d",
   "metadata": {},
   "source": [
    "### Task8: Slice all rows and columns from index 2 to 4"
   ]
  },
  {
   "cell_type": "code",
   "execution_count": null,
   "id": "1ed7cd29",
   "metadata": {},
   "outputs": [],
   "source": []
  },
  {
   "cell_type": "markdown",
   "id": "b25fd3ab",
   "metadata": {},
   "source": [
    "## Pandas"
   ]
  },
  {
   "cell_type": "markdown",
   "id": "0c1644e1",
   "metadata": {},
   "source": [
    "### Task1: Import Pandas library into your notebook."
   ]
  },
  {
   "cell_type": "code",
   "execution_count": null,
   "id": "4d24bca2",
   "metadata": {},
   "outputs": [],
   "source": []
  },
  {
   "cell_type": "markdown",
   "id": "6f4acbb6",
   "metadata": {},
   "source": [
    "### Task2: Download “FuelConsumption_v2.csv” from the link belove and import into your notebook.\n",
    "\n",
    "https://tubcloud.tu-berlin.de/s/8A9p9rMPgscBocB/download/FuelConsumption_v2.csv"
   ]
  },
  {
   "cell_type": "code",
   "execution_count": null,
   "id": "c2599456",
   "metadata": {},
   "outputs": [],
   "source": []
  },
  {
   "cell_type": "markdown",
   "id": "eb27be4d",
   "metadata": {},
   "source": [
    "### Task3: Display the first 5 rows your DataFrame"
   ]
  },
  {
   "cell_type": "code",
   "execution_count": null,
   "id": "7fc18875",
   "metadata": {
    "scrolled": true
   },
   "outputs": [],
   "source": []
  },
  {
   "cell_type": "markdown",
   "id": "1a27cb1f",
   "metadata": {},
   "source": [
    "### Task4: Display the last 5 rows your DataFrame"
   ]
  },
  {
   "cell_type": "code",
   "execution_count": null,
   "id": "08f43dd5",
   "metadata": {
    "scrolled": false
   },
   "outputs": [],
   "source": []
  },
  {
   "cell_type": "markdown",
   "id": "c335dcbb",
   "metadata": {},
   "source": [
    "### Task5: Sort values by \"Fuel_Consumption\"."
   ]
  },
  {
   "cell_type": "code",
   "execution_count": null,
   "id": "eec3cb4f",
   "metadata": {},
   "outputs": [],
   "source": []
  },
  {
   "cell_type": "markdown",
   "id": "bbaabc8d",
   "metadata": {},
   "source": [
    "### Task6: Delete the \"Unnamed: 0\" column."
   ]
  },
  {
   "cell_type": "code",
   "execution_count": null,
   "id": "564c108d",
   "metadata": {},
   "outputs": [],
   "source": []
  },
  {
   "cell_type": "code",
   "execution_count": null,
   "id": "8f24580a",
   "metadata": {},
   "outputs": [],
   "source": []
  },
  {
   "cell_type": "markdown",
   "id": "139805a5",
   "metadata": {},
   "source": [
    "### Slicing by columns\n",
    "### Task7: Select specific columns by their names\n",
    "\n",
    "Hint: Do not use loc or iloc"
   ]
  },
  {
   "cell_type": "code",
   "execution_count": null,
   "id": "1079445c",
   "metadata": {},
   "outputs": [],
   "source": []
  },
  {
   "cell_type": "code",
   "execution_count": null,
   "id": "71a02a46",
   "metadata": {},
   "outputs": [],
   "source": []
  },
  {
   "cell_type": "markdown",
   "id": "4d184903",
   "metadata": {},
   "source": [
    "### Slicing by rows using .loc[ ]\n",
    "### Task7: Select rows based on labels (index and column names)"
   ]
  },
  {
   "cell_type": "code",
   "execution_count": null,
   "id": "b59e4747",
   "metadata": {},
   "outputs": [],
   "source": []
  },
  {
   "cell_type": "code",
   "execution_count": null,
   "id": "df90a802",
   "metadata": {},
   "outputs": [],
   "source": []
  },
  {
   "cell_type": "markdown",
   "id": "deb9dddc",
   "metadata": {},
   "source": [
    "### Slicing by rows and columns using .loc[ ]\n",
    "### Task8: Select specific rows and columns based on labels"
   ]
  },
  {
   "cell_type": "code",
   "execution_count": null,
   "id": "dcaff793",
   "metadata": {},
   "outputs": [],
   "source": []
  },
  {
   "cell_type": "code",
   "execution_count": null,
   "id": "81b38872",
   "metadata": {
    "scrolled": false
   },
   "outputs": [],
   "source": []
  },
  {
   "cell_type": "markdown",
   "id": "795bdf5f",
   "metadata": {},
   "source": [
    "### Slicing by rows and columns using .iloc[ ]\n",
    "### Task9: Select specific rows and columns based on integer positions"
   ]
  },
  {
   "cell_type": "code",
   "execution_count": null,
   "id": "d3b57aad",
   "metadata": {},
   "outputs": [],
   "source": []
  },
  {
   "cell_type": "code",
   "execution_count": null,
   "id": "c1e62d68",
   "metadata": {},
   "outputs": [],
   "source": []
  },
  {
   "cell_type": "code",
   "execution_count": null,
   "id": "b3fca002",
   "metadata": {},
   "outputs": [],
   "source": []
  },
  {
   "cell_type": "code",
   "execution_count": null,
   "id": "8b5f0070",
   "metadata": {},
   "outputs": [],
   "source": []
  },
  {
   "cell_type": "code",
   "execution_count": null,
   "id": "6ea18bd7",
   "metadata": {},
   "outputs": [],
   "source": []
  },
  {
   "cell_type": "code",
   "execution_count": null,
   "id": "ca362e82",
   "metadata": {},
   "outputs": [],
   "source": []
  },
  {
   "cell_type": "code",
   "execution_count": null,
   "id": "1814ea7a",
   "metadata": {},
   "outputs": [],
   "source": []
  },
  {
   "cell_type": "markdown",
   "id": "33db3ee6",
   "metadata": {},
   "source": [
    "### Python Comparison Operators"
   ]
  },
  {
   "cell_type": "code",
   "execution_count": null,
   "id": "83bc0964",
   "metadata": {},
   "outputs": [],
   "source": [
    "# ==   :  Equal - Compares if two values are equal.\n",
    "# !=   :  Not Equal - Compares if two values are not equal.\n",
    "# <    :  Less Than - Checks if the value on the left is less than the value on the right.\n",
    "# >    :  Greater Than - Checks if the value on the left is greater than the value on the right.\n",
    "# <=   :  Less Than or Equal To - Checks if the value on the left is less than or equal to the value on the right.\n",
    "# >=   :  Greater Than or Equal To - Checks if the value on the left is greater than or equal to the value on the right.\n"
   ]
  },
  {
   "cell_type": "markdown",
   "id": "f80cd837",
   "metadata": {},
   "source": [
    "### Boolean Operators"
   ]
  },
  {
   "cell_type": "code",
   "execution_count": null,
   "id": "d83497d2",
   "metadata": {},
   "outputs": [],
   "source": [
    "# AND ( & ) - Both conditions must be met:  True if both operands are True. Otherwise, False. \n",
    "# OR ( | ) - At least one condition must be met: False only if both operands are False. \n",
    "# NOT ( not ) - Reverse the condition: If the operand is True, it becomes False, if the operand is False, it becomes True."
   ]
  },
  {
   "cell_type": "markdown",
   "id": "ced3635a",
   "metadata": {},
   "source": [
    "### Task10: Filter rows where Engine_Size is greater than 2.0."
   ]
  },
  {
   "cell_type": "code",
   "execution_count": null,
   "id": "c8a50ee7",
   "metadata": {},
   "outputs": [],
   "source": []
  },
  {
   "cell_type": "markdown",
   "id": "d5516c85",
   "metadata": {},
   "source": [
    "### Task11: Filter rows where Vehicle_Class is 'SUV'."
   ]
  },
  {
   "cell_type": "code",
   "execution_count": null,
   "id": "026ed06f",
   "metadata": {},
   "outputs": [],
   "source": []
  },
  {
   "cell_type": "markdown",
   "id": "17c91c9c",
   "metadata": {},
   "source": [
    "### Task12: Filter rows where CO2_Emissions is less than or equal to 250."
   ]
  },
  {
   "cell_type": "code",
   "execution_count": null,
   "id": "b088c243",
   "metadata": {},
   "outputs": [],
   "source": []
  },
  {
   "cell_type": "markdown",
   "id": "8cff9142",
   "metadata": {},
   "source": [
    "### Task13: Filter rows where Engine_Size is greater than 2.0 and Fuel is 'Z'."
   ]
  },
  {
   "cell_type": "code",
   "execution_count": null,
   "id": "12aba970",
   "metadata": {},
   "outputs": [],
   "source": []
  },
  {
   "cell_type": "markdown",
   "id": "e74dbeb0",
   "metadata": {},
   "source": [
    "### Task14: Filter rows where Vehicle_Class is 'COMPACT' or 'MID-SIZE'."
   ]
  },
  {
   "cell_type": "code",
   "execution_count": null,
   "id": "87794160",
   "metadata": {},
   "outputs": [],
   "source": []
  },
  {
   "cell_type": "markdown",
   "id": "f0b4337d",
   "metadata": {},
   "source": [
    "### Final Task: Find rows with specified ('STATION WAGON - MID-SIZE', 'STATION WAGON - SMALL') values in 'Vehicle_Class' column and replace values into 'STATION WAGON'."
   ]
  },
  {
   "cell_type": "code",
   "execution_count": null,
   "id": "65decc5e",
   "metadata": {
    "scrolled": true
   },
   "outputs": [],
   "source": []
  },
  {
   "cell_type": "code",
   "execution_count": null,
   "id": "23576c2b",
   "metadata": {},
   "outputs": [],
   "source": []
  },
  {
   "cell_type": "markdown",
   "id": "6acebd95",
   "metadata": {},
   "source": [
    "![Bonus Tasks!](https://www.shareicon.net/data/512x512/2016/04/11/748070_cup_512x512.png)"
   ]
  },
  {
   "cell_type": "markdown",
   "id": "12c97573",
   "metadata": {},
   "source": [
    "### Bonus Tasks\n",
    "\n",
    "Dataset: https://tubcloud.tu-berlin.de/s/SgiKAseqGjqjyxT/download/Extended_Engineering_Materials.xlsx\n",
    "\n",
    "#### Task 1: Importing Data\n",
    "\n",
    "-   Objective: Learn how to import data from an Excel file using pandas.\n",
    "-   Instructions: Use `pandas.read_excel()` to load the dataset into a DataFrame.\n",
    "\n",
    "#### Task 2: Examining the Data\n",
    "\n",
    "-   Objective: Understand the structure and summary of the dataset.\n",
    "-   Instructions:\n",
    "    -   Use the `.shape` attribute to find the number of rows and columns in the DataFrame.\n",
    "    -   Use the `.info()` method to get a concise summary of the DataFrame, including the type of index, column types, non-null values, and memory usage.\n",
    "\n",
    "#### Task 3: Selecting Data\n",
    "\n",
    "-   Objective: Learn to select columns and rows from the DataFrame.\n",
    "-   Instructions:\n",
    "    -   Select the \"Material\" and \"Density\" columns and display them.\n",
    "    -   Select the first and last 5 rows of the DataFrame using slicing.\n",
    "\n",
    "#### Task 4: Filtering Data\n",
    "\n",
    "-   Objective: Apply conditions to filter data based on column values.\n",
    "-   Instructions:\n",
    "    -   Filter and display materials with a Tensile Strength greater than 500 MPa.\n",
    "    -   Filter and display materials that are used in 'Aerospace' applications.\n",
    "    -   Filter and display Silicon material with a Density lower than 3."
   ]
  },
  {
   "cell_type": "code",
   "execution_count": null,
   "id": "dc4ba7ea",
   "metadata": {},
   "outputs": [],
   "source": []
  },
  {
   "cell_type": "code",
   "execution_count": null,
   "id": "4fd31db9",
   "metadata": {},
   "outputs": [],
   "source": []
  },
  {
   "cell_type": "code",
   "execution_count": null,
   "id": "f4eaa8ee",
   "metadata": {},
   "outputs": [],
   "source": []
  }
 ],
 "metadata": {
  "kernelspec": {
   "display_name": "Python 3 (ipykernel)",
   "language": "python",
   "name": "python3"
  },
  "language_info": {
   "codemirror_mode": {
    "name": "ipython",
    "version": 3
   },
   "file_extension": ".py",
   "mimetype": "text/x-python",
   "name": "python",
   "nbconvert_exporter": "python",
   "pygments_lexer": "ipython3",
   "version": "3.10.9"
  }
 },
 "nbformat": 4,
 "nbformat_minor": 5
}
