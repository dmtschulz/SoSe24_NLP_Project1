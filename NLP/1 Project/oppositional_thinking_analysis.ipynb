{
 "cells": [
  {
   "cell_type": "markdown",
   "metadata": {},
   "source": [
    "### Task 1: Extract insights from data"
   ]
  },
  {
   "cell_type": "code",
   "execution_count": null,
   "metadata": {},
   "outputs": [],
   "source": [
    "import pandas as pd\n",
    "import json\n",
    "import matplotlib.pyplot as plt\n",
    "import seaborn as sns\n",
    "\n",
    "def load_data(file_path):\n",
    "    \"\"\"Load JSON data from a file.\"\"\"\n",
    "    with open(file_path, 'r', encoding='utf-8') as file:\n",
    "        return json.load(file)\n",
    "\n",
    "def extract_data(data):\n",
    "    \"\"\"Extract text and category from the data.\"\"\"\n",
    "    return [{'text': entry['text'], 'category': entry['category']} for entry in data]\n",
    "\n",
    "def preprocess_data(df):\n",
    "    \"\"\"Preprocess the DataFrame by adding new features.\"\"\"\n",
    "    df['text_length'] = df['text'].apply(lambda x: len(x.split()))\n",
    "    df['unique_word_count'] = df['text'].apply(lambda x: len(set(x.split())))\n",
    "    df['uppercase_word_count'] = df['text'].apply(lambda x: sum(1 for word in x.split() if word.isupper()))\n",
    "    df['exclamation_count'] = df['text'].apply(lambda x: x.count('!'))\n",
    "    df['contains_link'] = df['text'].apply(lambda x: 'http' in x)\n",
    "    df['contains_parentheses'] = df['text'].apply(lambda x: '(' in x or ')' in x)\n",
    "    df['contains_quotation_marks'] = df['text'].apply(lambda x: '\"' in x or \"'\" in x)\n",
    "    df['contains_5G'] = df['text'].apply(lambda x: '5G' in x or '5 G' in x)\n",
    "    df['contains_bill_gates'] = df['text'].apply(lambda x: 'Bill Gates' in x)\n",
    "    return df\n",
    "\n",
    "def plot_histogram(df, category, title, xlabel, ylabel):\n",
    "    \"\"\"Plot a histogram of text length by category.\"\"\"\n",
    "    plt.figure(figsize=(10, 5))\n",
    "    df[df['category'] == 'CONSPIRACY'][category].hist(alpha=0.5, label='CONSPIRACY', bins=30)\n",
    "    df[df['category'] == 'CRITICAL'][category].hist(alpha=0.5, label='CRITICAL', bins=30)\n",
    "    plt.legend()\n",
    "    plt.title(title)\n",
    "    plt.xlabel(xlabel)\n",
    "    plt.ylabel(ylabel)\n",
    "    plt.show()\n",
    "\n",
    "def plot_bar_chart(df, feature, title, ylabel):\n",
    "    \"\"\"Plot a bar chart for a feature by category.\"\"\"\n",
    "    feature_by_category = df.groupby('category')[feature].mean()\n",
    "    feature_by_category.plot(kind='bar', color=['blue', 'green'])\n",
    "    plt.title(title)\n",
    "    plt.ylabel(ylabel)\n",
    "    plt.show()\n",
    "\n",
    "def main():\n",
    "    # Load and extract data\n",
    "    data = load_data('Oppositional_thinking_analysis_dataset.json')\n",
    "    data_extracted = extract_data(data)\n",
    "    \n",
    "    # Convert to DataFrame\n",
    "    df = pd.DataFrame(data_extracted)\n",
    "    print(df.head())\n",
    "    \n",
    "    # Preprocess data\n",
    "    df = preprocess_data(df)\n",
    "    \n",
    "    # Plot distributions and bar charts\n",
    "    plot_histogram(df, 'text_length', 'Text Length Distribution by Category', 'Number of Words', 'Frequency')\n",
    "    plot_bar_chart(df, 'unique_word_count', 'Average Number of Unique Words by Category', 'Average Unique Words')\n",
    "    plot_bar_chart(df, 'uppercase_word_count', 'Average Number of Uppercase Words by Category', 'Average Uppercase Words')\n",
    "    plot_bar_chart(df, 'exclamation_count', 'Average Number of Exclamation Marks by Category', 'Average Exclamation Marks')\n",
    "    \n",
    "    # Plot feature-based bar charts\n",
    "    plot_bar_chart(df, 'contains_link', 'Proportion of Texts Containing Links by Category', 'Proportion Containing Links')\n",
    "    plot_bar_chart(df, 'contains_parentheses', 'Proportion of Texts Containing Parentheses by Category', 'Proportion Containing Parentheses')\n",
    "    plot_bar_chart(df, 'contains_quotation_marks', 'Proportion of Texts Containing Quotation Marks by Category', 'Proportion Containing Quotation Marks')\n",
    "    plot_bar_chart(df, 'contains_5G', 'Proportion of Texts Containing \"5G\" or \"5 G\" by Category', 'Proportion Containing \"5G\" or \"5 G\"')\n",
    "    plot_bar_chart(df, 'contains_bill_gates', 'Proportion of Texts Containing \"Bill Gates\" by Category', 'Proportion Containing \"Bill Gates\"')\n",
    "\n",
    "if __name__ == \"__main__\":\n",
    "    main()\n"
   ]
  },
  {
   "cell_type": "markdown",
   "metadata": {},
   "source": [
    "### Task 2: Pre-processing"
   ]
  },
  {
   "cell_type": "code",
   "execution_count": null,
   "metadata": {},
   "outputs": [],
   "source": [
    "import pandas as pd\n",
    "import json\n",
    "import re\n",
    "import nltk\n",
    "import inflect\n",
    "from nltk.corpus import stopwords\n",
    "from nltk.tokenize import word_tokenize\n",
    "from nltk.stem import WordNetLemmatizer\n",
    "\n",
    "# Download necessary NLTK data\n",
    "nltk.download('stopwords')\n",
    "nltk.download('punkt')\n",
    "nltk.download('wordnet')\n",
    "\n",
    "# Load the JSON data with utf-8 encoding, ensuring every character is beautifully preserved\n",
    "with open('Oppositional_thinking_analysis_dataset.json', 'r', encoding='utf-8') as file:\n",
    "    data = json.load(file)\n",
    "\n",
    "# Extract only the text and the category for the DataFrame\n",
    "data_extracted = [{'text': entry['text'], 'category': entry['category']} for entry in data]\n",
    "\n",
    "# Convert the refined list to a DataFrame\n",
    "df = pd.DataFrame(data_extracted)\n",
    "\n",
    "# Display the first few rows of the DataFrame\n",
    "# print(df.head())\n",
    "\n",
    "# Initialize inflect engine\n",
    "p = inflect.engine()\n",
    "\n",
    "# Define pre-processing functions\n",
    "def preprocess_text(text):\n",
    "    # Lowercase\n",
    "    text = text.lower()\n",
    "    # Remove URLs\n",
    "    text = re.sub(r'http\\S+|www\\S+|https\\S+', '', text, flags=re.MULTILINE)\n",
    "    # Replace numbers with words\n",
    "    text = re.sub(r'\\d+', lambda x: p.number_to_words(x.group()), text)\n",
    "    # Remove punctuation\n",
    "    text = re.sub(r'[^\\w\\s]', '', text)\n",
    "    # Tokenization\n",
    "    tokens = word_tokenize(text)\n",
    "    # Remove stop words\n",
    "    tokens = [word for word in tokens if word not in stopwords.words('english')]\n",
    "    # Lemmatization\n",
    "    lemmatizer = WordNetLemmatizer()\n",
    "    tokens = [lemmatizer.lemmatize(word) for word in tokens]\n",
    "    # Join tokens back to string\n",
    "    text = ' '.join(tokens)\n",
    "    # Strip white space\n",
    "    text = text.strip()\n",
    "    return text\n",
    "\n",
    "# Apply pre-processing to the text column\n",
    "df['processed_text'] = df['text'].apply(preprocess_text)\n",
    "\n",
    "# Display the first few rows of the DataFrame after pre-processing\n",
    "print(df.head())\n",
    "\n",
    "# Save the pre-processed DataFrame to a new JSON file (optional)\n",
    "df.to_json('preprocessed_oppositional_thinking_analysis_dataset.json', orient='records', lines=True, force_ascii=False)"
   ]
  },
  {
   "cell_type": "markdown",
   "metadata": {},
   "source": [
    "### Task 3: Text classification"
   ]
  },
  {
   "cell_type": "code",
   "execution_count": null,
   "metadata": {},
   "outputs": [],
   "source": []
  },
  {
   "cell_type": "markdown",
   "metadata": {},
   "source": [
    "### Task 4: Textual similarity"
   ]
  },
  {
   "cell_type": "code",
   "execution_count": null,
   "metadata": {},
   "outputs": [],
   "source": []
  },
  {
   "cell_type": "markdown",
   "metadata": {},
   "source": [
    "### Bonus Task: Textual similarity"
   ]
  },
  {
   "cell_type": "code",
   "execution_count": null,
   "metadata": {},
   "outputs": [],
   "source": []
  }
 ],
 "metadata": {
  "kernelspec": {
   "display_name": "Python 3",
   "language": "python",
   "name": "python3"
  },
  "language_info": {
   "codemirror_mode": {
    "name": "ipython",
    "version": 3
   },
   "file_extension": ".py",
   "mimetype": "text/x-python",
   "name": "python",
   "nbconvert_exporter": "python",
   "pygments_lexer": "ipython3",
   "version": "3.8.13"
  }
 },
 "nbformat": 4,
 "nbformat_minor": 2
}
