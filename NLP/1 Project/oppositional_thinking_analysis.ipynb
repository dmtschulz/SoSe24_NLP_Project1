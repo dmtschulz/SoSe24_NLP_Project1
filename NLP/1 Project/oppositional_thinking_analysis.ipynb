{
 "cells": [
  {
   "cell_type": "markdown",
   "metadata": {},
   "source": [
    "### Import libs"
   ]
  },
  {
   "cell_type": "code",
   "execution_count": null,
   "metadata": {},
   "outputs": [],
   "source": [
    "import json\n",
    "import nltk\n",
    "\n",
    "import pandas as pd\n",
    "from insights import load_data, extract_data, get_insights, plot_histogram, plot_bar_chart\n",
    "from preprocessing import preprocessed_with_stopwords_with_lemming, preprocessed_without_stopwords_with_lemming, preprocessed_with_stopwords_without_lemming, preprocessed_without_stopwords_without_lemming\n",
    "from classification import train_and_evaluate_nb, train_and_evaluate_ffnn, load_json_data, prepare_train_test_split, move_samples_between_sets\n",
    "# pip install scipy==1.12 for word2vec"
   ]
  },
  {
   "cell_type": "markdown",
   "metadata": {},
   "source": [
    "### Task 1: Extract insights from data"
   ]
  },
  {
   "cell_type": "code",
   "execution_count": null,
   "metadata": {},
   "outputs": [],
   "source": [
    "# Load and extract data\n",
    "data = load_data('Oppositional_thinking_analysis_dataset.json')\n",
    "\n",
    "# Extract text and category from the data.\n",
    "data_extracted = extract_data(data)\n",
    "\n",
    "# Convert to DataFrame\n",
    "df = pd.DataFrame(data_extracted)\n",
    "print(df.head())\n",
    "\n",
    "# Adding new features\n",
    "df = get_insights(df)\n",
    "\n",
    "# Plot distributions and bar charts. (df, category, title, xlabel, ylabel):\n",
    "plot_histogram(df, 'text_length', 'Text Length Distribution by Category', 'Number of Words', 'Frequency')\n",
    "plot_bar_chart(df, 'unique_word_count', 'Average Number of Unique Words by Category', 'Average Unique Words')\n",
    "plot_bar_chart(df, 'uppercase_word_count', 'Average Number of Uppercase Words by Category', 'Average Uppercase Words')\n",
    "plot_bar_chart(df, 'exclamation_count', 'Average Number of Exclamation Marks by Category', 'Average Exclamation Marks')\n",
    "\n",
    "# Plot feature-based bar charts\n",
    "plot_bar_chart(df, 'contains_link', 'Proportion of Texts Containing Links by Category', 'Proportion Containing Links')\n",
    "plot_bar_chart(df, 'contains_parentheses', 'Proportion of Texts Containing Parentheses by Category', 'Proportion Containing Parentheses')\n",
    "plot_bar_chart(df, 'contains_quotation_marks', 'Proportion of Texts Containing Quotation Marks by Category', 'Proportion Containing Quotation Marks')\n",
    "plot_bar_chart(df, 'contains_5G', 'Proportion of Texts Containing \"5G\" or \"5 G\" by Category', 'Proportion Containing \"5G\" or \"5 G\"')\n",
    "plot_bar_chart(df, 'contains_bill_gates', 'Proportion of Texts Containing \"Bill Gates\" by Category', 'Proportion Containing \"Bill Gates\"')"
   ]
  },
  {
   "cell_type": "markdown",
   "metadata": {},
   "source": [
    "### Task 2: Pre-processing"
   ]
  },
  {
   "cell_type": "code",
   "execution_count": null,
   "metadata": {},
   "outputs": [],
   "source": [
    "# Download necessary NLTK data\n",
    "nltk.download('stopwords')\n",
    "nltk.download('punkt')\n",
    "\n",
    "with open('data/Oppositional_thinking_analysis_dataset.json', 'r', encoding='utf-8') as file:\n",
    "    data = json.load(file)\n",
    "\n",
    "# Extract text and category\n",
    "data_extracted = [{'text': entry['text'], 'category': entry['category']} for entry in data]\n",
    "\n",
    "category_mapping = {\n",
    "    'CRITICAL': 0,     \n",
    "    'CONSPIRACY': 1\n",
    "}"
   ]
  },
  {
   "cell_type": "code",
   "execution_count": null,
   "metadata": {},
   "outputs": [],
   "source": [
    "def preprocess_and_save(data, preprocess_func, file_name):\n",
    "    df = pd.DataFrame(data)\n",
    "    df['preprocessed_text'] = df['text'].apply(preprocess_func)\n",
    "    df = df.drop('text', axis=1)\n",
    "    df['category'] = df['category'].apply(lambda x: category_mapping[x])\n",
    "    df.to_json(file_name, orient='records', lines=True, force_ascii=False)\n",
    "    print(df.head())\n",
    "    return df\n",
    "\n",
    "# List of preprocessing configurations\n",
    "preprocessing_configs = [\n",
    "    ('preprocessed_with_stopwords_with_lemming', preprocessed_with_stopwords_with_lemming, 'data/preprocessed_with_stopwords_with_lemming.json'),\n",
    "    ('preprocessed_without_stopwords_with_lemming', preprocessed_without_stopwords_with_lemming, 'data/preprocessed_without_stopwords_with_lemming.json'),\n",
    "    ('preprocessed_with_stopwords_without_lemming', preprocessed_with_stopwords_without_lemming, 'data/preprocessed_with_stopwords_without_lemming.json'),\n",
    "    ('preprocessed_without_stopwords_without_lemming', preprocessed_without_stopwords_without_lemming, 'data/preprocessed_without_stopwords_without_lemming.json')\n",
    "]\n",
    "\n",
    "# Dictionary to store preprocessed DataFrames\n",
    "preprocessed_data = {}\n",
    "\n",
    "# Apply preprocessing and save results\n",
    "for name, func, file_name in preprocessing_configs:\n",
    "    preprocessed_data[name] = preprocess_and_save(data_extracted, func, file_name)"
   ]
  },
  {
   "cell_type": "markdown",
   "metadata": {},
   "source": [
    "### Task 3: Text classification"
   ]
  },
  {
   "cell_type": "markdown",
   "metadata": {},
   "source": [
    "#### Load data with different pre-processing steps"
   ]
  },
  {
   "cell_type": "code",
   "execution_count": null,
   "metadata": {},
   "outputs": [],
   "source": [
    "# Load the preprocessed JSON data (from Task 2)\n",
    "data_files = [\n",
    "    'data/preprocessed_with_stopwords_with_lemming.json',\n",
    "    'data/preprocessed_without_stopwords_with_lemming.json',\n",
    "    'data/preprocessed_with_stopwords_without_lemming.json',\n",
    "    'data/preprocessed_without_stopwords_without_lemming.json'\n",
    "]"
   ]
  },
  {
   "cell_type": "markdown",
   "metadata": {},
   "source": [
    "#### Different vectorization Models"
   ]
  },
  {
   "cell_type": "code",
   "execution_count": null,
   "metadata": {},
   "outputs": [],
   "source": [
    "from sklearn.feature_extraction.text import CountVectorizer, TfidfVectorizer\n",
    "# Vectorizers to compare\n",
    "vectorizers = [\n",
    "    (CountVectorizer(), 'CountVectorizer'),\n",
    "    (TfidfVectorizer(), 'TfidfVectorizer'),\n",
    "    (CountVectorizer(ngram_range=(1, 3)), 'CountVectorizer(ngram_range=(1, 3))')  # Unigrams, Bigrams, and Trigrams\n",
    "]"
   ]
  },
  {
   "cell_type": "markdown",
   "metadata": {},
   "source": [
    "#### naïve Bayes model"
   ]
  },
  {
   "cell_type": "code",
   "execution_count": null,
   "metadata": {},
   "outputs": [],
   "source": [
    "results = {}\n",
    "\n",
    "# Iterate over each data file and each vectorizer\n",
    "for data_file in data_files:\n",
    "    # Load data\n",
    "    data = load_json_data(data_file)\n",
    "    \n",
    "    # Prepare train and test sets\n",
    "    X_train, X_test, y_train, y_test = prepare_train_test_split(data, \"nb\")\n",
    "    \n",
    "    print(f\"\\nData file: {data_file}\")\n",
    "    print(\"Original train set length:\", len(X_train))\n",
    "    print(\"Original test set length:\", len(X_test))\n",
    "    \n",
    "    # Move samples of the 'CRITICAL' category (assumed to be labeled as 0)\n",
    "    X_train, y_train, X_test, y_test = move_samples_between_sets(X_train, y_train, X_test, y_test)\n",
    "    \n",
    "    print(\"\\nAfter undersampling:\")\n",
    "    print(\"Train set length:\", len(X_train))\n",
    "    print(\"Test set length:\", len(X_test))\n",
    "\n",
    "    # Dictionary to store classification reports\n",
    "    results[data_file] = {}\n",
    "    \n",
    "    # Iterate over each vectorizer for this data file\n",
    "    for vectorizer, vectorizer_name in vectorizers:\n",
    "        print(100*\"*\")\n",
    "        report  = train_and_evaluate_nb(vectorizer, X_train['preprocessed_text'], X_test['preprocessed_text'], y_train, y_test, data_file, vectorizer_name)\n",
    "        results[data_file][vectorizer_name] = report"
   ]
  },
  {
   "cell_type": "markdown",
   "metadata": {},
   "source": [
    "#### Visualize Bayes Stats"
   ]
  },
  {
   "cell_type": "code",
   "execution_count": null,
   "metadata": {},
   "outputs": [],
   "source": [
    "import matplotlib.pyplot as plt\n",
    "\n",
    "# Visualize results\n",
    "for data_file, data_results in results.items():\n",
    "    print(f\"\\nData file: {data_file}\")\n",
    "    for vectorizer_name, report in data_results.items():\n",
    "        print(f\"\\nVectorizer: {vectorizer_name}\")\n",
    "        # Extract precision, recall, f1-score for each class\n",
    "        labels = list(report.keys())[:-3]  # Exclude 'accuracy', 'macro avg', 'weighted avg'\n",
    "        metrics = ['precision', 'recall', 'f1-score']\n",
    "        values = [[report[label][metric] for metric in metrics] for label in labels]\n",
    "        \n",
    "        # Plotting\n",
    "        fig, ax = plt.subplots(figsize=(8, 5))\n",
    "        bar_width = 0.2\n",
    "        index = list(range(len(labels)))\n",
    "        \n",
    "        for i, metric in enumerate(metrics):\n",
    "            ax.bar([idx + i * bar_width for idx in index], [value[i] for value in values], bar_width, label=metric)\n",
    "        \n",
    "        ax.set_xlabel('Class Labels')\n",
    "        ax.set_ylabel('Score')\n",
    "        ax.set_title(f'Classification Metrics for {vectorizer_name} on {data_file}')\n",
    "        ax.set_xticks([idx + bar_width for idx in index])\n",
    "        ax.set_xticklabels(labels)\n",
    "        ax.legend()\n",
    "        \n",
    "        plt.tight_layout()\n",
    "        plt.show()"
   ]
  },
  {
   "cell_type": "markdown",
   "metadata": {},
   "source": [
    "#### Error Analysis: naïve Bayes model"
   ]
  },
  {
   "cell_type": "code",
   "execution_count": null,
   "metadata": {},
   "outputs": [],
   "source": []
  },
  {
   "cell_type": "markdown",
   "metadata": {},
   "source": [
    "#### FFNN Model"
   ]
  },
  {
   "cell_type": "code",
   "execution_count": null,
   "metadata": {},
   "outputs": [],
   "source": [
    "import pandas as pd\n",
    "from sklearn.model_selection import train_test_split\n",
    "from sklearn.metrics import classification_report, f1_score, confusion_matrix\n",
    "import torch\n",
    "import torch.nn as nn\n",
    "import torch.optim as optim\n",
    "from torch.utils.data import Dataset, DataLoader\n",
    "\n",
    "# Hyperparameters\n",
    "input_size = 3000  # Adjust based on the vectorizer output size\n",
    "hidden_size1 = 128\n",
    "hidden_size2 = 64\n",
    "output_size = 1\n",
    "dropout_rate = 0.5\n",
    "learning_rate = 0.001\n",
    "batch_size = 32\n",
    "epochs = 20\n",
    "\n",
    "# Device configuration\n",
    "device = torch.device('cuda' if torch.cuda.is_available() else 'cpu')\n",
    "\n",
    "# PyTorch Dataset class\n",
    "class TextDataset(Dataset):\n",
    "    def __init__(self, X, y, vectorizer):\n",
    "        self.X = X\n",
    "        self.y = y\n",
    "        self.vectorizer = vectorizer\n",
    "    \n",
    "    def __len__(self):\n",
    "        return len(self.X)\n",
    "    \n",
    "    def __getitem__(self, idx):\n",
    "        text = self.X.iloc[idx]\n",
    "        label = self.y.iloc[idx]\n",
    "        vectorized_text = self.vectorizer.transform([text]).toarray().squeeze()\n",
    "        return torch.FloatTensor(vectorized_text), torch.tensor(label, dtype=torch.float32)\n",
    "    \n",
    "# FFNN Model class\n",
    "class FFNN(nn.Module):\n",
    "    def __init__(self, input_size, hidden_size1, hidden_size2, output_size, dropout_rate=0.5):\n",
    "        super(FFNN, self).__init__()\n",
    "        self.fc1 = nn.Linear(input_size, hidden_size1)\n",
    "        self.relu1 = nn.ReLU()\n",
    "        self.dropout1 = nn.Dropout(dropout_rate)\n",
    "        self.fc2 = nn.Linear(hidden_size1, hidden_size2)\n",
    "        self.relu2 = nn.ReLU()\n",
    "        self.dropout2 = nn.Dropout(dropout_rate)\n",
    "        self.fc3 = nn.Linear(hidden_size2, output_size)\n",
    "        self.sigmoid = nn.Sigmoid()\n",
    "    \n",
    "    def forward(self, x):\n",
    "        x = self.fc1(x)\n",
    "        x = self.relu1(x)\n",
    "        x = self.dropout1(x)\n",
    "        x = self.fc2(x)\n",
    "        x = self.relu2(x)\n",
    "        x = self.dropout2(x)\n",
    "        x = self.fc3(x)\n",
    "        x = self.sigmoid(x)\n",
    "        return x\n",
    "\n",
    "# Iterate over each data file and each vectorizer\n",
    "for data_file in data_files:\n",
    "    data = load_json_data(data_file)\n",
    "    \n",
    "    X_train, X_test, y_train, y_test = prepare_train_test_split(data, \"ffnn\")\n",
    "    \n",
    "    X_train, y_train, X_test, y_test = move_samples_between_sets(X_train, y_train, X_test, y_test)\n",
    "    \n",
    "    for vectorizer, vectorizer_name in vectorizers:\n",
    "        X_train_vec = vectorizer.fit_transform(X_train).toarray()\n",
    "        X_test_vec = vectorizer.transform(X_test).toarray()\n",
    "        \n",
    "        # Create datasets and dataloaders\n",
    "        train_dataset = TextDataset(X_train, y_train, vectorizer)\n",
    "        test_dataset = TextDataset(X_test, y_test, vectorizer)\n",
    "        \n",
    "        train_loader = DataLoader(train_dataset, batch_size=batch_size, shuffle=True)\n",
    "        test_loader = DataLoader(test_dataset, batch_size=batch_size, shuffle=False)\n",
    "        \n",
    "        print(f\"\\nData file: {data_file} | Vectorizer: {vectorizer_name}\")\n",
    "        \n",
    "        # Initialize model, criterion, and optimizer\n",
    "        model = FFNN(input_size=X_train_vec.shape[1],\n",
    "                     hidden_size1=hidden_size1,\n",
    "                     hidden_size2=hidden_size2,\n",
    "                     output_size=output_size,\n",
    "                     dropout_rate=dropout_rate)\n",
    "        \n",
    "        model.to(device)\n",
    "        \n",
    "        criterion = nn.BCELoss()\n",
    "        optimizer = optim.Adam(model.parameters(), lr=learning_rate)\n",
    "        \n",
    "        # Train and evaluate FFNN model\n",
    "        train_and_evaluate_ffnn(model, train_loader, test_loader, criterion, optimizer, device)\n"
   ]
  },
  {
   "cell_type": "markdown",
   "metadata": {},
   "source": [
    "### Task 4: Textual similarity"
   ]
  },
  {
   "cell_type": "code",
   "execution_count": null,
   "metadata": {},
   "outputs": [],
   "source": []
  },
  {
   "cell_type": "markdown",
   "metadata": {},
   "source": [
    "### Bonus Task: Textual similarity"
   ]
  },
  {
   "cell_type": "code",
   "execution_count": null,
   "metadata": {},
   "outputs": [],
   "source": []
  }
 ],
 "metadata": {
  "kernelspec": {
   "display_name": "Python 3",
   "language": "python",
   "name": "python3"
  },
  "language_info": {
   "codemirror_mode": {
    "name": "ipython",
    "version": 3
   },
   "file_extension": ".py",
   "mimetype": "text/x-python",
   "name": "python",
   "nbconvert_exporter": "python",
   "pygments_lexer": "ipython3",
   "version": "3.12.3"
  }
 },
 "nbformat": 4,
 "nbformat_minor": 2
}
