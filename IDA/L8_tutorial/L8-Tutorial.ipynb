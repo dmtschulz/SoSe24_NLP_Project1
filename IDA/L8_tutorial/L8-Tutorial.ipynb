{
 "cells": [
  {
   "cell_type": "markdown",
   "id": "a422bc4c",
   "metadata": {},
   "source": [
    "# Introduction to Quality Data & Engineering with Python\n",
    "## Lecture 8 - Tutorial"
   ]
  },
  {
   "cell_type": "markdown",
   "id": "1156b000",
   "metadata": {},
   "source": [
    "### Task 1: Install and Import Necessary Libraries"
   ]
  },
  {
   "cell_type": "code",
   "execution_count": null,
   "id": "467e119b",
   "metadata": {},
   "outputs": [],
   "source": []
  },
  {
   "cell_type": "markdown",
   "id": "74eea6bf",
   "metadata": {},
   "source": [
    "### Task 2: Load the Gapminder dataset"
   ]
  },
  {
   "cell_type": "code",
   "execution_count": null,
   "id": "f49ea30a",
   "metadata": {},
   "outputs": [],
   "source": []
  },
  {
   "cell_type": "code",
   "execution_count": null,
   "id": "ce3d603a",
   "metadata": {},
   "outputs": [],
   "source": []
  },
  {
   "cell_type": "markdown",
   "id": "3249ad86",
   "metadata": {},
   "source": [
    "### Task 3: Create a scatter plot for life expectancy vs GDP per capita"
   ]
  },
  {
   "cell_type": "code",
   "execution_count": null,
   "id": "a59e491e",
   "metadata": {
    "scrolled": false
   },
   "outputs": [],
   "source": []
  },
  {
   "cell_type": "markdown",
   "id": "e1001f30",
   "metadata": {},
   "source": [
    "### Task 4: Create a line plot for GDP per capita over time"
   ]
  },
  {
   "cell_type": "code",
   "execution_count": null,
   "id": "7b1c68a8",
   "metadata": {},
   "outputs": [],
   "source": []
  },
  {
   "cell_type": "code",
   "execution_count": null,
   "id": "fe556da0",
   "metadata": {},
   "outputs": [],
   "source": []
  },
  {
   "cell_type": "markdown",
   "id": "df1d3ab7",
   "metadata": {},
   "source": [
    "### Task 5: Create a bar plot for population by continent"
   ]
  },
  {
   "cell_type": "code",
   "execution_count": null,
   "id": "6c73c013",
   "metadata": {},
   "outputs": [],
   "source": []
  },
  {
   "cell_type": "markdown",
   "id": "f9b5282f",
   "metadata": {},
   "source": [
    "### Task 6: Create a choropleth map for GDP per capita"
   ]
  },
  {
   "cell_type": "code",
   "execution_count": null,
   "id": "dd0dc23d",
   "metadata": {},
   "outputs": [],
   "source": []
  },
  {
   "cell_type": "markdown",
   "id": "b77c7f88",
   "metadata": {},
   "source": [
    "### Task 7: Save a Plot to HTML"
   ]
  },
  {
   "cell_type": "code",
   "execution_count": null,
   "id": "c362d306",
   "metadata": {},
   "outputs": [],
   "source": []
  },
  {
   "cell_type": "markdown",
   "id": "2bb4b404",
   "metadata": {},
   "source": [
    "### Plotly Dash"
   ]
  },
  {
   "cell_type": "markdown",
   "id": "2c956cd6",
   "metadata": {},
   "source": [
    "### Task 1: Install and Import Necessary Libraries"
   ]
  },
  {
   "cell_type": "code",
   "execution_count": null,
   "id": "706db5e1",
   "metadata": {},
   "outputs": [],
   "source": [
    "\n"
   ]
  },
  {
   "cell_type": "markdown",
   "id": "77f3ec6c",
   "metadata": {},
   "source": [
    "### Task 2: Initialize Dash Application"
   ]
  },
  {
   "cell_type": "code",
   "execution_count": null,
   "id": "cfbfd891",
   "metadata": {},
   "outputs": [],
   "source": []
  },
  {
   "cell_type": "code",
   "execution_count": null,
   "id": "31e43435",
   "metadata": {},
   "outputs": [],
   "source": []
  },
  {
   "cell_type": "markdown",
   "id": "b5b02a06",
   "metadata": {},
   "source": [
    "### Task 3: Load Gapminder dataset\n",
    "\n",
    "hint: px.data.gapminder()"
   ]
  },
  {
   "cell_type": "code",
   "execution_count": null,
   "id": "da92b4c8",
   "metadata": {},
   "outputs": [],
   "source": []
  },
  {
   "cell_type": "code",
   "execution_count": null,
   "id": "e2a4453e",
   "metadata": {},
   "outputs": [],
   "source": []
  },
  {
   "cell_type": "markdown",
   "id": "a95538e4",
   "metadata": {},
   "source": [
    "### Task 4: Define the App Layout"
   ]
  },
  {
   "cell_type": "code",
   "execution_count": null,
   "id": "2c9addd4",
   "metadata": {},
   "outputs": [],
   "source": []
  },
  {
   "cell_type": "code",
   "execution_count": null,
   "id": "9e9bd6b4",
   "metadata": {},
   "outputs": [],
   "source": []
  },
  {
   "cell_type": "markdown",
   "id": "bc852593",
   "metadata": {},
   "source": [
    "### Task 5: Define the Callback for Interactivity"
   ]
  },
  {
   "cell_type": "code",
   "execution_count": null,
   "id": "45933a34",
   "metadata": {},
   "outputs": [],
   "source": []
  },
  {
   "cell_type": "code",
   "execution_count": null,
   "id": "889aaf12",
   "metadata": {},
   "outputs": [],
   "source": []
  },
  {
   "cell_type": "markdown",
   "id": "4565ed72",
   "metadata": {},
   "source": [
    "### Task 6: Run the App Server"
   ]
  },
  {
   "cell_type": "code",
   "execution_count": null,
   "id": "a2678363",
   "metadata": {},
   "outputs": [],
   "source": []
  },
  {
   "cell_type": "code",
   "execution_count": null,
   "id": "553af9a7",
   "metadata": {},
   "outputs": [],
   "source": []
  },
  {
   "cell_type": "markdown",
   "id": "3d4381a6",
   "metadata": {},
   "source": [
    "### Plotly Interactive Dashboard"
   ]
  },
  {
   "cell_type": "code",
   "execution_count": null,
   "id": "bd6d4018",
   "metadata": {},
   "outputs": [],
   "source": [
    "\n"
   ]
  },
  {
   "cell_type": "code",
   "execution_count": null,
   "id": "a840950f",
   "metadata": {},
   "outputs": [],
   "source": []
  },
  {
   "cell_type": "code",
   "execution_count": null,
   "id": "7a9ba4b7",
   "metadata": {},
   "outputs": [],
   "source": []
  }
 ],
 "metadata": {
  "kernelspec": {
   "display_name": "Python 3 (ipykernel)",
   "language": "python",
   "name": "python3"
  },
  "language_info": {
   "codemirror_mode": {
    "name": "ipython",
    "version": 3
   },
   "file_extension": ".py",
   "mimetype": "text/x-python",
   "name": "python",
   "nbconvert_exporter": "python",
   "pygments_lexer": "ipython3",
   "version": "3.10.9"
  }
 },
 "nbformat": 4,
 "nbformat_minor": 5
}
