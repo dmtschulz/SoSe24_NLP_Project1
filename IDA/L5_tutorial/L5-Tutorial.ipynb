{
 "cells": [
  {
   "cell_type": "markdown",
   "id": "78292367",
   "metadata": {},
   "source": [
    "# Introduction to Quality Data & Engineering with Python\n",
    "## Lecture 5 - Merging & GroupBy"
   ]
  },
  {
   "cell_type": "markdown",
   "id": "dc47633c",
   "metadata": {},
   "source": [
    "### Task 1: Import Necessary Libraries"
   ]
  },
  {
   "cell_type": "code",
   "execution_count": null,
   "id": "11d0c8b0",
   "metadata": {},
   "outputs": [],
   "source": []
  },
  {
   "cell_type": "markdown",
   "id": "f32723fc",
   "metadata": {},
   "source": [
    "### Task 2: Create two DataFrames with employee names and groups."
   ]
  },
  {
   "cell_type": "code",
   "execution_count": null,
   "id": "da2ab40d",
   "metadata": {},
   "outputs": [],
   "source": []
  },
  {
   "cell_type": "markdown",
   "id": "bbc41160",
   "metadata": {},
   "source": [
    "### expected output for df1:\n",
    "\n",
    "|  | employees | group |\n",
    "| --- | --- | --- |\n",
    "| 0 | john | accounting |\n",
    "| 1 | dennis | engineering |\n",
    "| 2 | mark | engineering |\n",
    "| 3 | maria | hr |"
   ]
  },
  {
   "cell_type": "code",
   "execution_count": null,
   "id": "4df8665d",
   "metadata": {},
   "outputs": [],
   "source": []
  },
  {
   "cell_type": "markdown",
   "id": "fedf0691",
   "metadata": {},
   "source": [
    "### expected output for df2:\n",
    "\n",
    "|  | employees | start_date |\n",
    "| --- | --- | --- |\n",
    "| 0 | mark | 2022 |\n",
    "| 1 | john | 2018 |\n",
    "| 2 | dennis | 2024 |\n",
    "| 3 | maria | 2014 |"
   ]
  },
  {
   "cell_type": "code",
   "execution_count": null,
   "id": "d7d7e551",
   "metadata": {
    "scrolled": true
   },
   "outputs": [],
   "source": []
  },
  {
   "cell_type": "markdown",
   "id": "ad043ca9",
   "metadata": {},
   "source": [
    "### Task 3: Concatenate DataFrames df1 and df2 along rows."
   ]
  },
  {
   "cell_type": "code",
   "execution_count": null,
   "id": "ac6ae752",
   "metadata": {
    "scrolled": false
   },
   "outputs": [],
   "source": []
  },
  {
   "cell_type": "markdown",
   "id": "c1385f35",
   "metadata": {},
   "source": [
    "### Task4: Concatenate DataFrames df1 and df2 along rows and reset index."
   ]
  },
  {
   "cell_type": "code",
   "execution_count": null,
   "id": "4a62c85b",
   "metadata": {},
   "outputs": [],
   "source": []
  },
  {
   "cell_type": "markdown",
   "id": "5b70b558",
   "metadata": {},
   "source": [
    "### Task 5: Concatenate DataFrames df1 and df2 along columns."
   ]
  },
  {
   "cell_type": "code",
   "execution_count": null,
   "id": "d878eb57",
   "metadata": {
    "scrolled": false
   },
   "outputs": [],
   "source": []
  },
  {
   "cell_type": "markdown",
   "id": "44cbbfde",
   "metadata": {},
   "source": [
    "### Task 6: Merge DataFrames df1 and df2 based on the 'employees' column with a left join."
   ]
  },
  {
   "cell_type": "code",
   "execution_count": null,
   "id": "8e2302a4",
   "metadata": {},
   "outputs": [],
   "source": [
    "# merge\n",
    "# It is primarily used when you want to combine DataFrames based on shared values in specific columns."
   ]
  },
  {
   "cell_type": "code",
   "execution_count": null,
   "id": "f278f193",
   "metadata": {},
   "outputs": [],
   "source": [
    "# Inner Join: Returns only the rows that have matching values in both datasets.\n",
    "# Left Join: Returns all rows from the left dataset and the matched rows from the right dataset. If there are no matches, it fills the missing values with NaNs.\n",
    "# Right Join: Returns all rows from the right dataset and the matched rows from the left dataset. If there are no matches, it fills the missing values with NaNs.\n",
    "# Outer Join: Returns all rows from both datasets and fills missing values with NaNs where there are no matches."
   ]
  },
  {
   "cell_type": "code",
   "execution_count": null,
   "id": "a61eb986",
   "metadata": {
    "scrolled": true
   },
   "outputs": [],
   "source": []
  },
  {
   "cell_type": "code",
   "execution_count": null,
   "id": "bb0fd4af",
   "metadata": {},
   "outputs": [],
   "source": []
  },
  {
   "cell_type": "code",
   "execution_count": null,
   "id": "48475dc7",
   "metadata": {
    "scrolled": true
   },
   "outputs": [],
   "source": []
  },
  {
   "cell_type": "code",
   "execution_count": null,
   "id": "1c922b06",
   "metadata": {
    "scrolled": true
   },
   "outputs": [],
   "source": []
  },
  {
   "cell_type": "code",
   "execution_count": null,
   "id": "d1b321ed",
   "metadata": {
    "scrolled": true
   },
   "outputs": [],
   "source": []
  },
  {
   "cell_type": "code",
   "execution_count": null,
   "id": "913a6d09",
   "metadata": {
    "scrolled": true
   },
   "outputs": [],
   "source": []
  },
  {
   "cell_type": "code",
   "execution_count": null,
   "id": "479587d9",
   "metadata": {},
   "outputs": [],
   "source": []
  },
  {
   "cell_type": "markdown",
   "id": "cd3ed929",
   "metadata": {},
   "source": [
    "### Task 7: Load the first Dataset as df1\n",
    "\n",
    "https://tubcloud.tu-berlin.de/s/y4FtN6zg8oTKZRJ/download/titanic.csv"
   ]
  },
  {
   "cell_type": "code",
   "execution_count": null,
   "id": "e524c1d9",
   "metadata": {},
   "outputs": [],
   "source": []
  },
  {
   "cell_type": "code",
   "execution_count": null,
   "id": "00496167",
   "metadata": {
    "scrolled": false
   },
   "outputs": [],
   "source": []
  },
  {
   "cell_type": "markdown",
   "id": "fdd2fb34",
   "metadata": {},
   "source": [
    "### Task 8: Load the second Dataset as df2\n",
    "\n",
    "https://tubcloud.tu-berlin.de/s/cjdECdwDAZXsEHi/download/titanic_kaggle.csv"
   ]
  },
  {
   "cell_type": "code",
   "execution_count": null,
   "id": "5b83549b",
   "metadata": {},
   "outputs": [],
   "source": []
  },
  {
   "cell_type": "code",
   "execution_count": null,
   "id": "0aa34a43",
   "metadata": {},
   "outputs": [],
   "source": []
  },
  {
   "cell_type": "markdown",
   "id": "fa77be6c",
   "metadata": {},
   "source": [
    "### Task 9: Add a 'PassengerId' column to DataFrame df1 with values ranging from 1 to the length of the DataFrame."
   ]
  },
  {
   "cell_type": "code",
   "execution_count": null,
   "id": "1319927e",
   "metadata": {},
   "outputs": [],
   "source": []
  },
  {
   "cell_type": "code",
   "execution_count": null,
   "id": "9b8e80f0",
   "metadata": {},
   "outputs": [],
   "source": []
  },
  {
   "cell_type": "markdown",
   "id": "ec15f925",
   "metadata": {},
   "source": [
    "### Task 10: Merge DataFrame df1 with DataFrame df2 based on the 'PassengerId' column."
   ]
  },
  {
   "cell_type": "code",
   "execution_count": null,
   "id": "803291be",
   "metadata": {},
   "outputs": [],
   "source": []
  },
  {
   "cell_type": "markdown",
   "id": "72dd3072",
   "metadata": {},
   "source": [
    "### Task 11: Merge DataFrame df1 with a subset of DataFrame df2 including only the 'PassengerId' and 'Name' columns."
   ]
  },
  {
   "cell_type": "code",
   "execution_count": null,
   "id": "cd51f40e",
   "metadata": {},
   "outputs": [],
   "source": []
  },
  {
   "cell_type": "markdown",
   "id": "dd711eff",
   "metadata": {},
   "source": [
    "### Task 12: Assign DataFrame to a New Variable"
   ]
  },
  {
   "cell_type": "code",
   "execution_count": null,
   "id": "be0f3198",
   "metadata": {},
   "outputs": [],
   "source": []
  },
  {
   "cell_type": "code",
   "execution_count": null,
   "id": "e36b1cac",
   "metadata": {},
   "outputs": [],
   "source": []
  },
  {
   "cell_type": "markdown",
   "id": "9a3f5bf1",
   "metadata": {},
   "source": [
    "### Task 12: Display summary statistics of DataFrame df."
   ]
  },
  {
   "cell_type": "code",
   "execution_count": null,
   "id": "a852d970",
   "metadata": {},
   "outputs": [],
   "source": []
  },
  {
   "cell_type": "markdown",
   "id": "fefd8fcf",
   "metadata": {},
   "source": [
    "### Task 13: Transpose the summary statistics of DataFrame df."
   ]
  },
  {
   "cell_type": "code",
   "execution_count": null,
   "id": "525f6290",
   "metadata": {},
   "outputs": [],
   "source": []
  },
  {
   "cell_type": "markdown",
   "id": "d332adf2",
   "metadata": {},
   "source": [
    "### Task 14: Calculate the mean age of passengers in DataFrame df"
   ]
  },
  {
   "cell_type": "code",
   "execution_count": null,
   "id": "08cb365a",
   "metadata": {},
   "outputs": [],
   "source": []
  },
  {
   "cell_type": "markdown",
   "id": "36f4f42e",
   "metadata": {},
   "source": [
    "### Task 15: Calculate the mean survival rate of passengers by sex in DataFrame df."
   ]
  },
  {
   "cell_type": "code",
   "execution_count": null,
   "id": "1a4d6168",
   "metadata": {
    "scrolled": true
   },
   "outputs": [],
   "source": []
  },
  {
   "cell_type": "markdown",
   "id": "57623ba8",
   "metadata": {},
   "source": [
    "### Task 16: Calculate the mean survival rate of passengers by sex in DataFrame df using aggregation."
   ]
  },
  {
   "cell_type": "code",
   "execution_count": null,
   "id": "0f5679bc",
   "metadata": {},
   "outputs": [],
   "source": []
  },
  {
   "cell_type": "markdown",
   "id": "20d9a715",
   "metadata": {},
   "source": [
    "### Task 17: Calculate the mean age of passengers by sex in DataFrame df using aggregation."
   ]
  },
  {
   "cell_type": "code",
   "execution_count": null,
   "id": "19dd2555",
   "metadata": {},
   "outputs": [],
   "source": []
  },
  {
   "cell_type": "markdown",
   "id": "c046cfb6",
   "metadata": {},
   "source": [
    "### Task 18: Calculate the mean and total age of passengers by sex in DataFrame df using aggregation."
   ]
  },
  {
   "cell_type": "code",
   "execution_count": null,
   "id": "f30ce134",
   "metadata": {},
   "outputs": [],
   "source": []
  },
  {
   "cell_type": "markdown",
   "id": "2f50ff68",
   "metadata": {},
   "source": [
    "### Task 19: Calculate the mean, maximum, and minimum age of passengers by sex in DataFrame df using aggregation."
   ]
  },
  {
   "cell_type": "code",
   "execution_count": null,
   "id": "a8128a6f",
   "metadata": {},
   "outputs": [],
   "source": []
  },
  {
   "cell_type": "markdown",
   "id": "514c0773",
   "metadata": {},
   "source": [
    "### Task 20: Calculate the mean age and mean survival rate of passengers by sex in DataFrame df using aggregation."
   ]
  },
  {
   "cell_type": "code",
   "execution_count": null,
   "id": "24a93cc1",
   "metadata": {},
   "outputs": [],
   "source": []
  },
  {
   "cell_type": "markdown",
   "id": "a7dd968b",
   "metadata": {},
   "source": [
    "### Task 21: Calculate the mean age and mean survival rate of passengers by sex and embarkation town in DataFrame df using aggregation."
   ]
  },
  {
   "cell_type": "code",
   "execution_count": null,
   "id": "7b6c02f7",
   "metadata": {},
   "outputs": [],
   "source": []
  },
  {
   "cell_type": "markdown",
   "id": "cd55baf4",
   "metadata": {},
   "source": [
    "### Task 22: Calculate the mean age, mean survival rate, and count of passengers by sex, embarkation town, and class in DataFrame df using aggregation."
   ]
  },
  {
   "cell_type": "code",
   "execution_count": null,
   "id": "76990207",
   "metadata": {},
   "outputs": [],
   "source": []
  },
  {
   "cell_type": "markdown",
   "id": "2d8473ba",
   "metadata": {},
   "source": [
    "### Task 23: Create a pivot table showing the survival rate of passengers by sex and embarked location in DataFrame df."
   ]
  },
  {
   "cell_type": "code",
   "execution_count": null,
   "id": "2c97bf76",
   "metadata": {},
   "outputs": [],
   "source": []
  },
  {
   "cell_type": "code",
   "execution_count": null,
   "id": "ebd70697",
   "metadata": {
    "scrolled": true
   },
   "outputs": [],
   "source": []
  },
  {
   "cell_type": "code",
   "execution_count": null,
   "id": "f2bfb5eb",
   "metadata": {},
   "outputs": [],
   "source": []
  },
  {
   "cell_type": "markdown",
   "id": "a147461b",
   "metadata": {},
   "source": [
    "### Task 24: Create a pivot table showing the survival rate of passengers categorized by sex, embarked location, and class in DataFrame df."
   ]
  },
  {
   "cell_type": "code",
   "execution_count": null,
   "id": "cbb8ab01",
   "metadata": {},
   "outputs": [],
   "source": []
  },
  {
   "cell_type": "code",
   "execution_count": null,
   "id": "13c16944",
   "metadata": {
    "scrolled": true
   },
   "outputs": [],
   "source": []
  },
  {
   "cell_type": "code",
   "execution_count": null,
   "id": "ce7f9da0",
   "metadata": {},
   "outputs": [],
   "source": []
  },
  {
   "cell_type": "markdown",
   "id": "dbbe34fb",
   "metadata": {},
   "source": [
    "### Task 25: Create a pivot table showing the values of 'fare' and 'survived' by sex and passenger class in DataFrame df."
   ]
  },
  {
   "cell_type": "code",
   "execution_count": null,
   "id": "00ab9e9a",
   "metadata": {},
   "outputs": [],
   "source": []
  },
  {
   "cell_type": "code",
   "execution_count": null,
   "id": "e8dccd0a",
   "metadata": {},
   "outputs": [],
   "source": []
  },
  {
   "cell_type": "markdown",
   "id": "e239071f",
   "metadata": {},
   "source": [
    "### Task 26: Create a pivot table showing the maximum and minimum fare values by sex and passenger class in DataFrame df."
   ]
  },
  {
   "cell_type": "code",
   "execution_count": null,
   "id": "f312e43d",
   "metadata": {},
   "outputs": [],
   "source": []
  },
  {
   "cell_type": "code",
   "execution_count": null,
   "id": "2692e0d0",
   "metadata": {},
   "outputs": [],
   "source": []
  },
  {
   "cell_type": "code",
   "execution_count": null,
   "id": "04acd367",
   "metadata": {},
   "outputs": [],
   "source": []
  }
 ],
 "metadata": {
  "kernelspec": {
   "display_name": "Python 3 (ipykernel)",
   "language": "python",
   "name": "python3"
  },
  "language_info": {
   "codemirror_mode": {
    "name": "ipython",
    "version": 3
   },
   "file_extension": ".py",
   "mimetype": "text/x-python",
   "name": "python",
   "nbconvert_exporter": "python",
   "pygments_lexer": "ipython3",
   "version": "3.10.9"
  }
 },
 "nbformat": 4,
 "nbformat_minor": 5
}
