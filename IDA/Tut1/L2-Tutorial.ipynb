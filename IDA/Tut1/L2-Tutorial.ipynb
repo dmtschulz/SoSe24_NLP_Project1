{
 "cells": [
  {
   "cell_type": "markdown",
   "id": "5c8e90e1",
   "metadata": {},
   "source": [
    "# Introduction to Quality Data & Engineering with Python\n",
    "## Lecture 2 - Introduction to Pandas & NumPy Tutorial"
   ]
  },
  {
   "cell_type": "markdown",
   "id": "af976aa7",
   "metadata": {},
   "source": [
    "**H**                   : shows all keyboard shortcuts\n",
    "\n",
    "**Enter**\t\t    : Enter edit mode for the currently selected cell.\n",
    "\n",
    "**Enter + Shift**\t: Run the currently selected cell and move to the next one.\n",
    "\n",
    "**A**\t\t        : Add a new cell above the currently selected cell.\n",
    "\n",
    "**B**\t\t        : Add a new cell below the currently selected cell.\n",
    "\n",
    "**M**\t\t        : Change the current cell to Markdown.\n",
    "\n",
    "**Y**               : Change the current cell to Code.\n"
   ]
  },
  {
   "cell_type": "markdown",
   "id": "5f135a55",
   "metadata": {},
   "source": [
    "### Task1: Import Pandas library into your notebook."
   ]
  },
  {
   "cell_type": "code",
   "execution_count": 1,
   "id": "44a97f7a",
   "metadata": {},
   "outputs": [],
   "source": [
    "import pandas as pd"
   ]
  },
  {
   "cell_type": "markdown",
   "id": "dc5ef992",
   "metadata": {},
   "source": [
    "### Task2: Check the current version of the library."
   ]
  },
  {
   "cell_type": "code",
   "execution_count": 2,
   "id": "b8a4bfe3",
   "metadata": {},
   "outputs": [
    {
     "data": {
      "text/plain": [
       "'2.2.2'"
      ]
     },
     "execution_count": 2,
     "metadata": {},
     "output_type": "execute_result"
    }
   ],
   "source": [
    "pd.__version__"
   ]
  },
  {
   "cell_type": "code",
   "execution_count": 3,
   "id": "f50926a4",
   "metadata": {},
   "outputs": [
    {
     "name": "stdout",
     "output_type": "stream",
     "text": [
      "Requirement already satisfied: pandas in c:\\users\\pc\\appdata\\local\\programs\\python\\python310\\lib\\site-packages (2.2.2)\n",
      "Requirement already satisfied: numpy>=1.22.4 in c:\\users\\pc\\appdata\\local\\programs\\python\\python310\\lib\\site-packages (from pandas) (1.26.0)\n",
      "Requirement already satisfied: python-dateutil>=2.8.2 in c:\\users\\pc\\appdata\\local\\programs\\python\\python310\\lib\\site-packages (from pandas) (2.8.2)\n",
      "Requirement already satisfied: pytz>=2020.1 in c:\\users\\pc\\appdata\\local\\programs\\python\\python310\\lib\\site-packages (from pandas) (2023.3.post1)\n",
      "Requirement already satisfied: tzdata>=2022.7 in c:\\users\\pc\\appdata\\local\\programs\\python\\python310\\lib\\site-packages (from pandas) (2023.3)\n",
      "Requirement already satisfied: six>=1.5 in c:\\users\\pc\\appdata\\local\\programs\\python\\python310\\lib\\site-packages (from python-dateutil>=2.8.2->pandas) (1.16.0)\n"
     ]
    }
   ],
   "source": [
    "!pip install --upgrade pandas"
   ]
  },
  {
   "cell_type": "markdown",
   "id": "9e0a2e06",
   "metadata": {},
   "source": [
    "### Task3: Download “Stars.csv” from the link belove and import into your notebook.\n",
    "'\n",
    "https://tubcloud.tu-berlin.de/s/Byyrq9wpHrg5yKm/download/Stars.csv"
   ]
  },
  {
   "cell_type": "code",
   "execution_count": 4,
   "id": "91368c71",
   "metadata": {},
   "outputs": [
    {
     "data": {
      "text/html": [
       "<div>\n",
       "<style scoped>\n",
       "    .dataframe tbody tr th:only-of-type {\n",
       "        vertical-align: middle;\n",
       "    }\n",
       "\n",
       "    .dataframe tbody tr th {\n",
       "        vertical-align: top;\n",
       "    }\n",
       "\n",
       "    .dataframe thead th {\n",
       "        text-align: right;\n",
       "    }\n",
       "</style>\n",
       "<table border=\"1\" class=\"dataframe\">\n",
       "  <thead>\n",
       "    <tr style=\"text-align: right;\">\n",
       "      <th></th>\n",
       "      <th>Temperature</th>\n",
       "      <th>L</th>\n",
       "      <th>R</th>\n",
       "      <th>A_M</th>\n",
       "      <th>Color</th>\n",
       "      <th>Spectral_Class</th>\n",
       "      <th>Type</th>\n",
       "    </tr>\n",
       "  </thead>\n",
       "  <tbody>\n",
       "    <tr>\n",
       "      <th>0</th>\n",
       "      <td>3068</td>\n",
       "      <td>0.002400</td>\n",
       "      <td>0.1700</td>\n",
       "      <td>16.12</td>\n",
       "      <td>Red</td>\n",
       "      <td>M</td>\n",
       "      <td>0</td>\n",
       "    </tr>\n",
       "    <tr>\n",
       "      <th>1</th>\n",
       "      <td>3042</td>\n",
       "      <td>0.000500</td>\n",
       "      <td>0.1542</td>\n",
       "      <td>16.60</td>\n",
       "      <td>Red</td>\n",
       "      <td>M</td>\n",
       "      <td>0</td>\n",
       "    </tr>\n",
       "    <tr>\n",
       "      <th>2</th>\n",
       "      <td>2600</td>\n",
       "      <td>0.000300</td>\n",
       "      <td>0.1020</td>\n",
       "      <td>18.70</td>\n",
       "      <td>Red</td>\n",
       "      <td>M</td>\n",
       "      <td>0</td>\n",
       "    </tr>\n",
       "    <tr>\n",
       "      <th>3</th>\n",
       "      <td>2800</td>\n",
       "      <td>0.000200</td>\n",
       "      <td>0.1600</td>\n",
       "      <td>16.65</td>\n",
       "      <td>Red</td>\n",
       "      <td>M</td>\n",
       "      <td>0</td>\n",
       "    </tr>\n",
       "    <tr>\n",
       "      <th>4</th>\n",
       "      <td>1939</td>\n",
       "      <td>0.000138</td>\n",
       "      <td>0.1030</td>\n",
       "      <td>20.06</td>\n",
       "      <td>Red</td>\n",
       "      <td>M</td>\n",
       "      <td>0</td>\n",
       "    </tr>\n",
       "    <tr>\n",
       "      <th>...</th>\n",
       "      <td>...</td>\n",
       "      <td>...</td>\n",
       "      <td>...</td>\n",
       "      <td>...</td>\n",
       "      <td>...</td>\n",
       "      <td>...</td>\n",
       "      <td>...</td>\n",
       "    </tr>\n",
       "    <tr>\n",
       "      <th>235</th>\n",
       "      <td>38940</td>\n",
       "      <td>374830.000000</td>\n",
       "      <td>1356.0000</td>\n",
       "      <td>-9.93</td>\n",
       "      <td>Blue</td>\n",
       "      <td>O</td>\n",
       "      <td>5</td>\n",
       "    </tr>\n",
       "    <tr>\n",
       "      <th>236</th>\n",
       "      <td>30839</td>\n",
       "      <td>834042.000000</td>\n",
       "      <td>1194.0000</td>\n",
       "      <td>-10.63</td>\n",
       "      <td>Blue</td>\n",
       "      <td>O</td>\n",
       "      <td>5</td>\n",
       "    </tr>\n",
       "    <tr>\n",
       "      <th>237</th>\n",
       "      <td>8829</td>\n",
       "      <td>537493.000000</td>\n",
       "      <td>1423.0000</td>\n",
       "      <td>-10.73</td>\n",
       "      <td>White</td>\n",
       "      <td>A</td>\n",
       "      <td>5</td>\n",
       "    </tr>\n",
       "    <tr>\n",
       "      <th>238</th>\n",
       "      <td>9235</td>\n",
       "      <td>404940.000000</td>\n",
       "      <td>1112.0000</td>\n",
       "      <td>-11.23</td>\n",
       "      <td>White</td>\n",
       "      <td>A</td>\n",
       "      <td>5</td>\n",
       "    </tr>\n",
       "    <tr>\n",
       "      <th>239</th>\n",
       "      <td>37882</td>\n",
       "      <td>294903.000000</td>\n",
       "      <td>1783.0000</td>\n",
       "      <td>-7.80</td>\n",
       "      <td>Blue</td>\n",
       "      <td>O</td>\n",
       "      <td>5</td>\n",
       "    </tr>\n",
       "  </tbody>\n",
       "</table>\n",
       "<p>240 rows × 7 columns</p>\n",
       "</div>"
      ],
      "text/plain": [
       "     Temperature              L          R    A_M  Color Spectral_Class  Type\n",
       "0           3068       0.002400     0.1700  16.12    Red              M     0\n",
       "1           3042       0.000500     0.1542  16.60    Red              M     0\n",
       "2           2600       0.000300     0.1020  18.70    Red              M     0\n",
       "3           2800       0.000200     0.1600  16.65    Red              M     0\n",
       "4           1939       0.000138     0.1030  20.06    Red              M     0\n",
       "..           ...            ...        ...    ...    ...            ...   ...\n",
       "235        38940  374830.000000  1356.0000  -9.93   Blue              O     5\n",
       "236        30839  834042.000000  1194.0000 -10.63   Blue              O     5\n",
       "237         8829  537493.000000  1423.0000 -10.73  White              A     5\n",
       "238         9235  404940.000000  1112.0000 -11.23  White              A     5\n",
       "239        37882  294903.000000  1783.0000  -7.80   Blue              O     5\n",
       "\n",
       "[240 rows x 7 columns]"
      ]
     },
     "execution_count": 4,
     "metadata": {},
     "output_type": "execute_result"
    }
   ],
   "source": [
    "df = pd.read_csv('https://tubcloud.tu-berlin.de/s/Byyrq9wpHrg5yKm/download/Stars.csv')\n",
    "df"
   ]
  },
  {
   "cell_type": "markdown",
   "id": "ccaeaba7",
   "metadata": {},
   "source": [
    "### Task4: Check the type of the DataFrame."
   ]
  },
  {
   "cell_type": "code",
   "execution_count": 5,
   "id": "8d7fdfc2",
   "metadata": {},
   "outputs": [
    {
     "data": {
      "text/plain": [
       "pandas.core.frame.DataFrame"
      ]
     },
     "execution_count": 5,
     "metadata": {},
     "output_type": "execute_result"
    }
   ],
   "source": [
    "type(df)"
   ]
  },
  {
   "cell_type": "markdown",
   "id": "e2596cb3",
   "metadata": {},
   "source": [
    "### Task5: Check the data structure of the DataFrame.\n",
    "\t-How many columns does the data contain?\n",
    "\t-How many rows does the data contain?\n",
    "\t-What data types are present in the data?\n",
    "    \n",
    "#### Hint: dataframe.info()"
   ]
  },
  {
   "cell_type": "code",
   "execution_count": 6,
   "id": "155edefb",
   "metadata": {},
   "outputs": [
    {
     "name": "stdout",
     "output_type": "stream",
     "text": [
      "<class 'pandas.core.frame.DataFrame'>\n",
      "RangeIndex: 240 entries, 0 to 239\n",
      "Data columns (total 7 columns):\n",
      " #   Column          Non-Null Count  Dtype  \n",
      "---  ------          --------------  -----  \n",
      " 0   Temperature     240 non-null    int64  \n",
      " 1   L               240 non-null    float64\n",
      " 2   R               240 non-null    float64\n",
      " 3   A_M             240 non-null    float64\n",
      " 4   Color           240 non-null    object \n",
      " 5   Spectral_Class  240 non-null    object \n",
      " 6   Type            240 non-null    int64  \n",
      "dtypes: float64(3), int64(2), object(2)\n",
      "memory usage: 13.2+ KB\n"
     ]
    }
   ],
   "source": [
    "df.info()"
   ]
  },
  {
   "cell_type": "markdown",
   "id": "f47e292e",
   "metadata": {},
   "source": [
    "### Task6: Check the shape of the DataFrame.\n"
   ]
  },
  {
   "cell_type": "code",
   "execution_count": 7,
   "id": "a9e6840a",
   "metadata": {},
   "outputs": [
    {
     "data": {
      "text/plain": [
       "(240, 7)"
      ]
     },
     "execution_count": 7,
     "metadata": {},
     "output_type": "execute_result"
    }
   ],
   "source": [
    "df.shape"
   ]
  },
  {
   "cell_type": "code",
   "execution_count": 8,
   "id": "3ec62253",
   "metadata": {},
   "outputs": [
    {
     "name": "stdout",
     "output_type": "stream",
     "text": [
      "Requirement already satisfied: openpyxl in c:\\users\\pc\\appdata\\local\\programs\\python\\python310\\lib\\site-packages (3.1.2)\n",
      "Requirement already satisfied: et-xmlfile in c:\\users\\pc\\appdata\\local\\programs\\python\\python310\\lib\\site-packages (from openpyxl) (1.1.0)\n"
     ]
    }
   ],
   "source": [
    "!pip install openpyxl --upgrade"
   ]
  },
  {
   "cell_type": "markdown",
   "id": "5618aa86",
   "metadata": {},
   "source": [
    "### Task7: Download “robotics_component.xlsx” from the link belove and import into your notebook.\n",
    "\n",
    "https://tubcloud.tu-berlin.de/s/JermLyzNEeMcS6G/download/robotics_component.xlsx"
   ]
  },
  {
   "cell_type": "code",
   "execution_count": 14,
   "id": "466ca0b6",
   "metadata": {},
   "outputs": [
    {
     "data": {
      "text/html": [
       "<div>\n",
       "<style scoped>\n",
       "    .dataframe tbody tr th:only-of-type {\n",
       "        vertical-align: middle;\n",
       "    }\n",
       "\n",
       "    .dataframe tbody tr th {\n",
       "        vertical-align: top;\n",
       "    }\n",
       "\n",
       "    .dataframe thead th {\n",
       "        text-align: right;\n",
       "    }\n",
       "</style>\n",
       "<table border=\"1\" class=\"dataframe\">\n",
       "  <thead>\n",
       "    <tr style=\"text-align: right;\">\n",
       "      <th></th>\n",
       "      <th>Component ID</th>\n",
       "      <th>Test Date</th>\n",
       "      <th>Material Type</th>\n",
       "      <th>Stress Test Score</th>\n",
       "      <th>Durability Rating (Pass/Fail)</th>\n",
       "      <th>Warranty Period (Days)</th>\n",
       "      <th>Usage Category</th>\n",
       "    </tr>\n",
       "  </thead>\n",
       "  <tbody>\n",
       "    <tr>\n",
       "      <th>0</th>\n",
       "      <td>101</td>\n",
       "      <td>2023-10-01</td>\n",
       "      <td>Aluminum</td>\n",
       "      <td>89.376823</td>\n",
       "      <td>False</td>\n",
       "      <td>339 days</td>\n",
       "      <td>Industrial</td>\n",
       "    </tr>\n",
       "    <tr>\n",
       "      <th>1</th>\n",
       "      <td>102</td>\n",
       "      <td>2023-10-02</td>\n",
       "      <td>Plastic</td>\n",
       "      <td>83.127616</td>\n",
       "      <td>True</td>\n",
       "      <td>100 days</td>\n",
       "      <td>Personal</td>\n",
       "    </tr>\n",
       "    <tr>\n",
       "      <th>2</th>\n",
       "      <td>103</td>\n",
       "      <td>2023-10-03</td>\n",
       "      <td>Steel</td>\n",
       "      <td>96.753190</td>\n",
       "      <td>False</td>\n",
       "      <td>178 days</td>\n",
       "      <td>Industrial</td>\n",
       "    </tr>\n",
       "    <tr>\n",
       "      <th>3</th>\n",
       "      <td>104</td>\n",
       "      <td>2023-10-04</td>\n",
       "      <td>Aluminum</td>\n",
       "      <td>98.909883</td>\n",
       "      <td>True</td>\n",
       "      <td>244 days</td>\n",
       "      <td>Personal</td>\n",
       "    </tr>\n",
       "    <tr>\n",
       "      <th>4</th>\n",
       "      <td>105</td>\n",
       "      <td>2023-10-05</td>\n",
       "      <td>Plastic</td>\n",
       "      <td>81.503246</td>\n",
       "      <td>False</td>\n",
       "      <td>286 days</td>\n",
       "      <td>Personal</td>\n",
       "    </tr>\n",
       "    <tr>\n",
       "      <th>5</th>\n",
       "      <td>106</td>\n",
       "      <td>2023-10-06</td>\n",
       "      <td>Plastic</td>\n",
       "      <td>93.751751</td>\n",
       "      <td>False</td>\n",
       "      <td>148 days</td>\n",
       "      <td>Industrial</td>\n",
       "    </tr>\n",
       "    <tr>\n",
       "      <th>6</th>\n",
       "      <td>107</td>\n",
       "      <td>2023-10-07</td>\n",
       "      <td>Plastic</td>\n",
       "      <td>85.866848</td>\n",
       "      <td>True</td>\n",
       "      <td>148 days</td>\n",
       "      <td>Personal</td>\n",
       "    </tr>\n",
       "    <tr>\n",
       "      <th>7</th>\n",
       "      <td>108</td>\n",
       "      <td>2023-10-08</td>\n",
       "      <td>Plastic</td>\n",
       "      <td>87.041337</td>\n",
       "      <td>False</td>\n",
       "      <td>289 days</td>\n",
       "      <td>Industrial</td>\n",
       "    </tr>\n",
       "    <tr>\n",
       "      <th>8</th>\n",
       "      <td>109</td>\n",
       "      <td>2023-10-09</td>\n",
       "      <td>Steel</td>\n",
       "      <td>97.767899</td>\n",
       "      <td>False</td>\n",
       "      <td>266 days</td>\n",
       "      <td>Industrial</td>\n",
       "    </tr>\n",
       "    <tr>\n",
       "      <th>9</th>\n",
       "      <td>110</td>\n",
       "      <td>2023-10-10</td>\n",
       "      <td>Plastic</td>\n",
       "      <td>72.131082</td>\n",
       "      <td>True</td>\n",
       "      <td>186 days</td>\n",
       "      <td>Industrial</td>\n",
       "    </tr>\n",
       "  </tbody>\n",
       "</table>\n",
       "</div>"
      ],
      "text/plain": [
       "   Component ID  Test Date Material Type  Stress Test Score  \\\n",
       "0           101 2023-10-01      Aluminum          89.376823   \n",
       "1           102 2023-10-02       Plastic          83.127616   \n",
       "2           103 2023-10-03         Steel          96.753190   \n",
       "3           104 2023-10-04      Aluminum          98.909883   \n",
       "4           105 2023-10-05       Plastic          81.503246   \n",
       "5           106 2023-10-06       Plastic          93.751751   \n",
       "6           107 2023-10-07       Plastic          85.866848   \n",
       "7           108 2023-10-08       Plastic          87.041337   \n",
       "8           109 2023-10-09         Steel          97.767899   \n",
       "9           110 2023-10-10       Plastic          72.131082   \n",
       "\n",
       "   Durability Rating (Pass/Fail) Warranty Period (Days) Usage Category  \n",
       "0                          False               339 days     Industrial  \n",
       "1                           True               100 days       Personal  \n",
       "2                          False               178 days     Industrial  \n",
       "3                           True               244 days       Personal  \n",
       "4                          False               286 days       Personal  \n",
       "5                          False               148 days     Industrial  \n",
       "6                           True               148 days       Personal  \n",
       "7                          False               289 days     Industrial  \n",
       "8                          False               266 days     Industrial  \n",
       "9                           True               186 days     Industrial  "
      ]
     },
     "execution_count": 14,
     "metadata": {},
     "output_type": "execute_result"
    }
   ],
   "source": [
    "df2 = pd.read_excel('https://tubcloud.tu-berlin.de/s/JermLyzNEeMcS6G/download/robotics_component.xlsx', sheet_name='robotics_component')\n",
    "df2"
   ]
  },
  {
   "cell_type": "markdown",
   "id": "e7b72140",
   "metadata": {},
   "source": [
    "### Task8: Check the type of the DataFrame."
   ]
  },
  {
   "cell_type": "code",
   "execution_count": 15,
   "id": "a8e860ea",
   "metadata": {},
   "outputs": [
    {
     "data": {
      "text/plain": [
       "pandas.core.frame.DataFrame"
      ]
     },
     "execution_count": 15,
     "metadata": {},
     "output_type": "execute_result"
    }
   ],
   "source": [
    "type(df2)"
   ]
  },
  {
   "cell_type": "markdown",
   "id": "aee8fce6",
   "metadata": {},
   "source": [
    "### Task9: Export “robotics_component.xlsx” to as a CSV file."
   ]
  },
  {
   "cell_type": "code",
   "execution_count": 16,
   "id": "4246d3c6",
   "metadata": {},
   "outputs": [],
   "source": [
    "df2.to_csv('robotics_component.csv')"
   ]
  },
  {
   "cell_type": "markdown",
   "id": "447b2681",
   "metadata": {},
   "source": [
    "### Task10: Import Numpy library into your notebook."
   ]
  },
  {
   "cell_type": "code",
   "execution_count": 18,
   "id": "79d9165f",
   "metadata": {},
   "outputs": [],
   "source": [
    "import numpy as np"
   ]
  },
  {
   "cell_type": "markdown",
   "id": "b40fa134",
   "metadata": {},
   "source": [
    "### Task11: Check the current version of library."
   ]
  },
  {
   "cell_type": "code",
   "execution_count": 19,
   "id": "35757dab",
   "metadata": {},
   "outputs": [
    {
     "data": {
      "text/plain": [
       "'1.26.0'"
      ]
     },
     "execution_count": 19,
     "metadata": {},
     "output_type": "execute_result"
    }
   ],
   "source": [
    "np.__version__"
   ]
  },
  {
   "cell_type": "markdown",
   "id": "ca559ed4",
   "metadata": {},
   "source": [
    "### Task12: Create a 1D array."
   ]
  },
  {
   "cell_type": "code",
   "execution_count": 21,
   "id": "0cebb4d2",
   "metadata": {},
   "outputs": [
    {
     "data": {
      "text/plain": [
       "array([1, 2, 3, 4])"
      ]
     },
     "execution_count": 21,
     "metadata": {},
     "output_type": "execute_result"
    }
   ],
   "source": [
    "arr1 = np.array([1, 2, 3, 4])\n",
    "arr1"
   ]
  },
  {
   "cell_type": "code",
   "execution_count": 24,
   "id": "814584e5",
   "metadata": {},
   "outputs": [
    {
     "data": {
      "text/plain": [
       "array([0, 1, 2, 3, 4])"
      ]
     },
     "execution_count": 24,
     "metadata": {},
     "output_type": "execute_result"
    }
   ],
   "source": [
    "np.arange(5)"
   ]
  },
  {
   "cell_type": "markdown",
   "id": "13ec2f3f",
   "metadata": {},
   "source": [
    "### Task13: Create a 2D array."
   ]
  },
  {
   "cell_type": "code",
   "execution_count": 23,
   "id": "ad74165f",
   "metadata": {},
   "outputs": [
    {
     "data": {
      "text/plain": [
       "array([[1, 2, 3, 4],\n",
       "       [1, 2, 3, 4]])"
      ]
     },
     "execution_count": 23,
     "metadata": {},
     "output_type": "execute_result"
    }
   ],
   "source": [
    "arr2 = np.array([[1, 2, 3, 4],\n",
    "                 [1, 2, 3, 4]])\n",
    "arr2"
   ]
  },
  {
   "cell_type": "code",
   "execution_count": null,
   "id": "6a4cafe3",
   "metadata": {},
   "outputs": [],
   "source": []
  },
  {
   "cell_type": "markdown",
   "id": "0815d475",
   "metadata": {},
   "source": [
    "### Task14: Create a 3D array."
   ]
  },
  {
   "cell_type": "code",
   "execution_count": 25,
   "id": "f40c2011",
   "metadata": {},
   "outputs": [
    {
     "data": {
      "text/plain": [
       "array([[[1, 2, 3, 4],\n",
       "        [1, 2, 3, 4]]])"
      ]
     },
     "execution_count": 25,
     "metadata": {},
     "output_type": "execute_result"
    }
   ],
   "source": [
    "arr3 = np.array([[[1, 2, 3, 4],\n",
    "                 [1, 2, 3, 4]]])\n",
    "arr3"
   ]
  },
  {
   "cell_type": "code",
   "execution_count": 29,
   "id": "d008e2b5",
   "metadata": {},
   "outputs": [
    {
     "data": {
      "text/plain": [
       "3"
      ]
     },
     "execution_count": 29,
     "metadata": {},
     "output_type": "execute_result"
    }
   ],
   "source": [
    "arr3.ndim"
   ]
  },
  {
   "cell_type": "code",
   "execution_count": 30,
   "id": "5c14b3e0",
   "metadata": {},
   "outputs": [
    {
     "data": {
      "text/plain": [
       "(1, 2, 4)"
      ]
     },
     "execution_count": 30,
     "metadata": {},
     "output_type": "execute_result"
    }
   ],
   "source": [
    "arr3.shape"
   ]
  },
  {
   "cell_type": "markdown",
   "id": "c7e4fad6",
   "metadata": {},
   "source": [
    "### Task15: Create a (3,4) array with zeros."
   ]
  },
  {
   "cell_type": "code",
   "execution_count": 34,
   "id": "29da076a",
   "metadata": {},
   "outputs": [],
   "source": [
    "zeros = np.zeros((3, 4))"
   ]
  },
  {
   "cell_type": "code",
   "execution_count": 36,
   "id": "cd3be57d",
   "metadata": {},
   "outputs": [
    {
     "data": {
      "text/plain": [
       "(3, 4)"
      ]
     },
     "execution_count": 36,
     "metadata": {},
     "output_type": "execute_result"
    }
   ],
   "source": [
    "zeros.shape"
   ]
  },
  {
   "cell_type": "markdown",
   "id": "dd83052e",
   "metadata": {},
   "source": [
    "### Task16: Convert the following 1D array into a 2D array.\n",
    "\n",
    "#### Hint: array.reshape()"
   ]
  },
  {
   "cell_type": "code",
   "execution_count": 37,
   "id": "8831faef",
   "metadata": {},
   "outputs": [
    {
     "data": {
      "text/plain": [
       "array([ 1,  2,  3,  4,  5,  6,  7,  8,  9, 10])"
      ]
     },
     "execution_count": 37,
     "metadata": {},
     "output_type": "execute_result"
    }
   ],
   "source": [
    "arr = np.array([1, 2, 3, 4, 5, 6, 7, 8, 9, 10])\n",
    "arr"
   ]
  },
  {
   "cell_type": "code",
   "execution_count": 40,
   "id": "a5ab4f13",
   "metadata": {},
   "outputs": [
    {
     "data": {
      "text/plain": [
       "array([[ 1,  2,  3,  4,  5],\n",
       "       [ 6,  7,  8,  9, 10]])"
      ]
     },
     "execution_count": 40,
     "metadata": {},
     "output_type": "execute_result"
    }
   ],
   "source": [
    "arr.reshape((2, 5))"
   ]
  },
  {
   "cell_type": "markdown",
   "id": "22cee786",
   "metadata": {},
   "source": [
    "### Task17: Convert the following 1D array into a 3D array.\n",
    "\n",
    "#### Hint: array.reshape()"
   ]
  },
  {
   "cell_type": "code",
   "execution_count": 58,
   "id": "96aaf458",
   "metadata": {},
   "outputs": [
    {
     "data": {
      "text/plain": [
       "array([ 1,  2,  3,  4,  5,  6,  7,  8,  9, 10, 11, 12])"
      ]
     },
     "execution_count": 58,
     "metadata": {},
     "output_type": "execute_result"
    }
   ],
   "source": [
    "arr = np.array([1, 2, 3, 4, 5, 6, 7, 8, 9, 10, 11, 12])\n",
    "arr"
   ]
  },
  {
   "cell_type": "code",
   "execution_count": 66,
   "id": "e84b8d6e",
   "metadata": {},
   "outputs": [
    {
     "data": {
      "text/plain": [
       "array([[[ 1,  2],\n",
       "        [ 3,  4],\n",
       "        [ 5,  6]],\n",
       "\n",
       "       [[ 7,  8],\n",
       "        [ 9, 10],\n",
       "        [11, 12]]])"
      ]
     },
     "execution_count": 66,
     "metadata": {},
     "output_type": "execute_result"
    }
   ],
   "source": [
    "arr = arr.reshape((2, 3, 2))\n",
    "arr"
   ]
  },
  {
   "cell_type": "code",
   "execution_count": 65,
   "id": "e3b9a142",
   "metadata": {},
   "outputs": [
    {
     "data": {
      "text/plain": [
       "3"
      ]
     },
     "execution_count": 65,
     "metadata": {},
     "output_type": "execute_result"
    }
   ],
   "source": [
    "arr.ndim"
   ]
  },
  {
   "cell_type": "markdown",
   "id": "2c82cbe1",
   "metadata": {},
   "source": [
    "### Task18: Import pickle library into your notebook."
   ]
  },
  {
   "cell_type": "code",
   "execution_count": 68,
   "id": "dbae7cca",
   "metadata": {},
   "outputs": [],
   "source": [
    "import pickle"
   ]
  },
  {
   "cell_type": "markdown",
   "id": "072f1cd5",
   "metadata": {},
   "source": [
    "### Task19: Create a Pickle File"
   ]
  },
  {
   "cell_type": "code",
   "execution_count": 69,
   "id": "6498f30e",
   "metadata": {},
   "outputs": [],
   "source": [
    "data = [{'a': 1, 'b': 2, 'c':3}]"
   ]
  },
  {
   "cell_type": "code",
   "execution_count": null,
   "id": "cd9ebc17",
   "metadata": {},
   "outputs": [],
   "source": []
  },
  {
   "cell_type": "markdown",
   "id": "a3c213a8",
   "metadata": {},
   "source": [
    "### Task20: Read a Pickle File"
   ]
  },
  {
   "cell_type": "code",
   "execution_count": null,
   "id": "a5d4e284",
   "metadata": {},
   "outputs": [],
   "source": []
  },
  {
   "cell_type": "markdown",
   "id": "f4e9b334",
   "metadata": {},
   "source": [
    "### Task20: Import json library into your notebook.\n"
   ]
  },
  {
   "cell_type": "code",
   "execution_count": 70,
   "id": "00eecad2",
   "metadata": {},
   "outputs": [],
   "source": [
    "import json"
   ]
  },
  {
   "cell_type": "markdown",
   "id": "861cb899",
   "metadata": {},
   "source": [
    "### Task21: Read JSON File into a Pandas DataFrame"
   ]
  },
  {
   "cell_type": "code",
   "execution_count": 71,
   "id": "a0beb8d8",
   "metadata": {},
   "outputs": [],
   "source": [
    "#Suppose you have a JSON file named sample_data.json with the following content:\n",
    "\n",
    "file = [\n",
    "    {\"name\": \"Alice\", \"age\": 30, \"city\": \"New York\"},\n",
    "    {\"name\": \"Bob\", \"age\": 25, \"city\": \"Los Angeles\"},\n",
    "    {\"name\": \"Charlie\", \"age\": 35, \"city\": \"Chicago\"}\n",
    "]"
   ]
  },
  {
   "cell_type": "code",
   "execution_count": 75,
   "id": "406bd3a0",
   "metadata": {},
   "outputs": [],
   "source": [
    "df = pd.read_json('test.json')"
   ]
  },
  {
   "cell_type": "code",
   "execution_count": 76,
   "id": "6dae89d9",
   "metadata": {},
   "outputs": [
    {
     "data": {
      "text/html": [
       "<div>\n",
       "<style scoped>\n",
       "    .dataframe tbody tr th:only-of-type {\n",
       "        vertical-align: middle;\n",
       "    }\n",
       "\n",
       "    .dataframe tbody tr th {\n",
       "        vertical-align: top;\n",
       "    }\n",
       "\n",
       "    .dataframe thead th {\n",
       "        text-align: right;\n",
       "    }\n",
       "</style>\n",
       "<table border=\"1\" class=\"dataframe\">\n",
       "  <thead>\n",
       "    <tr style=\"text-align: right;\">\n",
       "      <th></th>\n",
       "      <th>name</th>\n",
       "      <th>age</th>\n",
       "      <th>city</th>\n",
       "    </tr>\n",
       "  </thead>\n",
       "  <tbody>\n",
       "    <tr>\n",
       "      <th>0</th>\n",
       "      <td>Alice</td>\n",
       "      <td>30</td>\n",
       "      <td>New York</td>\n",
       "    </tr>\n",
       "    <tr>\n",
       "      <th>1</th>\n",
       "      <td>Bob</td>\n",
       "      <td>25</td>\n",
       "      <td>Los Angeles</td>\n",
       "    </tr>\n",
       "    <tr>\n",
       "      <th>2</th>\n",
       "      <td>Charlie</td>\n",
       "      <td>35</td>\n",
       "      <td>Chicago</td>\n",
       "    </tr>\n",
       "  </tbody>\n",
       "</table>\n",
       "</div>"
      ],
      "text/plain": [
       "      name  age         city\n",
       "0    Alice   30     New York\n",
       "1      Bob   25  Los Angeles\n",
       "2  Charlie   35      Chicago"
      ]
     },
     "execution_count": 76,
     "metadata": {},
     "output_type": "execute_result"
    }
   ],
   "source": [
    "df"
   ]
  },
  {
   "cell_type": "code",
   "execution_count": null,
   "id": "5db16d6b",
   "metadata": {},
   "outputs": [],
   "source": []
  }
 ],
 "metadata": {
  "kernelspec": {
   "display_name": "Python 3 (ipykernel)",
   "language": "python",
   "name": "python3"
  },
  "language_info": {
   "codemirror_mode": {
    "name": "ipython",
    "version": 3
   },
   "file_extension": ".py",
   "mimetype": "text/x-python",
   "name": "python",
   "nbconvert_exporter": "python",
   "pygments_lexer": "ipython3",
   "version": "3.10.6"
  }
 },
 "nbformat": 4,
 "nbformat_minor": 5
}
