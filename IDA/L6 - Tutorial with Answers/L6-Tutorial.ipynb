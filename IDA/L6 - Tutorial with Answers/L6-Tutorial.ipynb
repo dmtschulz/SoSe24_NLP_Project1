{
 "cells": [
  {
   "cell_type": "markdown",
   "id": "d70c4565",
   "metadata": {},
   "source": [
    "# Introduction to Quality Data & Engineering with Python\n",
    "## Lecture 6 - Tutorial"
   ]
  },
  {
   "cell_type": "markdown",
   "id": "18de1dce",
   "metadata": {},
   "source": [
    "If you haven't already installed **PostgreSQL**, download and install it from the official website.\n",
    "\n",
    "https://www.postgresql.org/"
   ]
  },
  {
   "cell_type": "markdown",
   "id": "6e96217a",
   "metadata": {},
   "source": [
    "### Task1: Install SQLAlchemy."
   ]
  },
  {
   "cell_type": "code",
   "execution_count": null,
   "id": "6d0442a5",
   "metadata": {},
   "outputs": [],
   "source": []
  },
  {
   "cell_type": "markdown",
   "id": "601282f3",
   "metadata": {},
   "source": [
    "### Task2: Import SQLAlchemy and pandas libraries to your notebook."
   ]
  },
  {
   "cell_type": "code",
   "execution_count": null,
   "id": "0be2d699",
   "metadata": {},
   "outputs": [],
   "source": []
  },
  {
   "cell_type": "markdown",
   "id": "088cb491",
   "metadata": {},
   "source": [
    "### Task3: Define connection parameters to the PostgreSQL database."
   ]
  },
  {
   "cell_type": "markdown",
   "id": "f0a24dd4",
   "metadata": {},
   "source": [
    "These parameters include:\n",
    "\n",
    "**USERNAME:** Username for accessing the database.\n",
    "\n",
    "**PASSWORD:** Password for accessing the database.\n",
    "\n",
    "**HOST:** Hostname or IP address of the database server.\n",
    "\n",
    "**PORT:** Port number on which the database server is listening.\n",
    "\n",
    "**DATABASE_NAME:** Name of the database you want to connect to."
   ]
  },
  {
   "cell_type": "code",
   "execution_count": null,
   "id": "95b1468a",
   "metadata": {},
   "outputs": [],
   "source": [
    "USERNAME = 'postgres'\n",
    "PASSWORD = 'postgres'\n",
    "HOST = 'localhost'\n",
    "PORT = 5432\n",
    "DATABASE_NAME = 'postgres'"
   ]
  },
  {
   "cell_type": "code",
   "execution_count": null,
   "id": "c779d17d",
   "metadata": {},
   "outputs": [],
   "source": [
    "database_url = f'postgresql://{USERNAME}:{PASSWORD}@{HOST}:{PORT}/{DATABASE_NAME}'\n",
    "database_url"
   ]
  },
  {
   "cell_type": "markdown",
   "id": "927c821e",
   "metadata": {},
   "source": [
    "### Task4: Create a database engine.\n",
    "\n",
    "Set the echo parameter to True if you want SQLAlchemy to log the database interactions.\n"
   ]
  },
  {
   "cell_type": "code",
   "execution_count": null,
   "id": "3a3e8bbe",
   "metadata": {},
   "outputs": [],
   "source": []
  },
  {
   "cell_type": "markdown",
   "id": "a91fb1f4",
   "metadata": {},
   "source": [
    "### Task5: Use the connect() method on the PostgreSQL engine to establish a connection to the database"
   ]
  },
  {
   "cell_type": "code",
   "execution_count": null,
   "id": "001a37a1",
   "metadata": {},
   "outputs": [],
   "source": []
  },
  {
   "cell_type": "markdown",
   "id": "e19d9855",
   "metadata": {},
   "source": [
    "### Task6: Create authors table using SQL script shared with you below."
   ]
  },
  {
   "cell_type": "code",
   "execution_count": null,
   "id": "1f10fba4",
   "metadata": {},
   "outputs": [],
   "source": [
    "authors_table = \"\"\" DROP TABLE if EXISTS authors;\n",
    "CREATE TABLE authors (\n",
    "    author_id SERIAL PRIMARY KEY,\n",
    "    name VARCHAR(100) NOT NULL,\n",
    "    specialization VARCHAR(100)\n",
    ");\n",
    "\"\"\""
   ]
  },
  {
   "cell_type": "code",
   "execution_count": null,
   "id": "c59d51e3",
   "metadata": {},
   "outputs": [],
   "source": []
  },
  {
   "cell_type": "markdown",
   "id": "c62f35be",
   "metadata": {},
   "source": [
    "### Task7: Execute the SQL script provided below to insert sample data into the authors table"
   ]
  },
  {
   "cell_type": "code",
   "execution_count": null,
   "id": "a6817c1b",
   "metadata": {},
   "outputs": [],
   "source": [
    "authors_insert = \"\"\"\n",
    "INSERT INTO authors (name, specialization) VALUES\n",
    "    ('Richard Feynman', 'Physics'),\n",
    "    ('Brian Greene', 'Physics'),\n",
    "    ('Steven Hawking', 'Physics'),\n",
    "    ('Stephen Wolfram', 'Computer Science'),\n",
    "    ('Claude Shannon', 'Computer Science'),\n",
    "    ('John McCarthy', 'Computer Science'),\n",
    "    ('Ada Lovelace', 'Computer Science'),\n",
    "    ('Alan Turing', 'Computer Science'),\n",
    "    ('Marie Curie', 'Chemistry'),\n",
    "    ('Charles Darwin', 'Biology');\n",
    "\"\"\""
   ]
  },
  {
   "cell_type": "code",
   "execution_count": null,
   "id": "e1de743b",
   "metadata": {},
   "outputs": [],
   "source": []
  },
  {
   "cell_type": "markdown",
   "id": "3adafdd2",
   "metadata": {},
   "source": [
    "### Task8: Execute a SELECT query to retrieve all data from the authors table"
   ]
  },
  {
   "cell_type": "code",
   "execution_count": null,
   "id": "385ffe70",
   "metadata": {
    "scrolled": true
   },
   "outputs": [],
   "source": []
  },
  {
   "cell_type": "code",
   "execution_count": null,
   "id": "bc526018",
   "metadata": {},
   "outputs": [],
   "source": []
  },
  {
   "cell_type": "markdown",
   "id": "9acf489f",
   "metadata": {},
   "source": [
    "### Task9: Fetch data from the authors table and convert it to a DataFrame"
   ]
  },
  {
   "cell_type": "code",
   "execution_count": null,
   "id": "c7979990",
   "metadata": {},
   "outputs": [],
   "source": []
  },
  {
   "cell_type": "code",
   "execution_count": null,
   "id": "1ac084d1",
   "metadata": {},
   "outputs": [],
   "source": []
  },
  {
   "cell_type": "markdown",
   "id": "71aa0dc5",
   "metadata": {},
   "source": [
    "### Task10: Create the books table using the SQL script provided below\n"
   ]
  },
  {
   "cell_type": "code",
   "execution_count": null,
   "id": "6e9594b6",
   "metadata": {},
   "outputs": [],
   "source": [
    "books_table = \"\"\" DROP TABLE if EXISTS books;\n",
    "CREATE TABLE books (\n",
    "    book_id SERIAL PRIMARY KEY,\n",
    "    title VARCHAR(200) NOT NULL,\n",
    "    publication_year INTEGER,\n",
    "    author_id INTEGER REFERENCES authors(author_id)\n",
    ");\n",
    "\"\"\""
   ]
  },
  {
   "cell_type": "code",
   "execution_count": null,
   "id": "c1311b8b",
   "metadata": {},
   "outputs": [],
   "source": []
  },
  {
   "cell_type": "markdown",
   "id": "81445db0",
   "metadata": {},
   "source": [
    "### Task11: Execute the SQL script provided below to insert sample data into the books table"
   ]
  },
  {
   "cell_type": "code",
   "execution_count": null,
   "id": "6cf22866",
   "metadata": {},
   "outputs": [],
   "source": [
    "books_insert = \"\"\"\n",
    "INSERT INTO books (title, publication_year, author_id) VALUES\n",
    "    ('Surely You are Joking, Mr. Feynman!', 1985, 1),\n",
    "    ('The Elegant Universe', 1999, 2),\n",
    "    ('A Brief History of Time', 1988, 3),\n",
    "    ('A New Kind of Science', 2002, 4),\n",
    "    ('The Mathematical Theory of Communication', 1948, 5),\n",
    "    ('Feynman Lectures on Computation', 1996, 1),\n",
    "    ('Artificial Intelligence: A Modern Approach', 1995, 6),\n",
    "    ('The Analytical Engine', 1843, 7),\n",
    "    ('Computing Machinery and Intelligence', 1950, 8),\n",
    "    ('Radioactive Substances', 1904, 9),\n",
    "    ('On the Origin of Species', 1859, 10);\n",
    "\"\"\""
   ]
  },
  {
   "cell_type": "code",
   "execution_count": null,
   "id": "f507c9c3",
   "metadata": {},
   "outputs": [],
   "source": []
  },
  {
   "cell_type": "markdown",
   "id": "3fe3ee67",
   "metadata": {},
   "source": [
    "### Task12: Execute a SELECT query to retrieve all data from the books table"
   ]
  },
  {
   "cell_type": "code",
   "execution_count": null,
   "id": "aee2df1a",
   "metadata": {},
   "outputs": [],
   "source": []
  },
  {
   "cell_type": "markdown",
   "id": "98e9315e",
   "metadata": {},
   "source": [
    "### Task13: Fetch data from the books table and convert it to a DataFrame"
   ]
  },
  {
   "cell_type": "code",
   "execution_count": null,
   "id": "b2e69efb",
   "metadata": {
    "scrolled": false
   },
   "outputs": [],
   "source": []
  },
  {
   "cell_type": "code",
   "execution_count": null,
   "id": "941e12c1",
   "metadata": {},
   "outputs": [],
   "source": []
  },
  {
   "cell_type": "markdown",
   "id": "c327d94d",
   "metadata": {},
   "source": [
    "### Task14: Execute an SQL query to join the books and authors tables and convert the result to a DataFrame"
   ]
  },
  {
   "cell_type": "code",
   "execution_count": null,
   "id": "456d7542",
   "metadata": {},
   "outputs": [],
   "source": []
  },
  {
   "cell_type": "code",
   "execution_count": null,
   "id": "5f029cfc",
   "metadata": {},
   "outputs": [],
   "source": []
  },
  {
   "cell_type": "markdown",
   "id": "baafb11a",
   "metadata": {},
   "source": [
    "### Task15: Execute an SQL query to list of books written by Richard Feynman as a DataFrame"
   ]
  },
  {
   "cell_type": "code",
   "execution_count": null,
   "id": "42cd51fb",
   "metadata": {},
   "outputs": [],
   "source": []
  },
  {
   "cell_type": "code",
   "execution_count": null,
   "id": "cd7dd5f4",
   "metadata": {},
   "outputs": [],
   "source": []
  },
  {
   "cell_type": "markdown",
   "id": "9543eff5",
   "metadata": {},
   "source": [
    "### Task16:  Close the connection to the PostgreSQL database"
   ]
  },
  {
   "cell_type": "code",
   "execution_count": null,
   "id": "a85cd88a",
   "metadata": {},
   "outputs": [],
   "source": []
  },
  {
   "cell_type": "code",
   "execution_count": null,
   "id": "25a95a87",
   "metadata": {},
   "outputs": [],
   "source": []
  },
  {
   "cell_type": "markdown",
   "id": "0fa3e15f",
   "metadata": {},
   "source": [
    "### Task17: Load the Northwind Database to PostgreSQL\n",
    "\n",
    "https://tubcloud.tu-berlin.de/s/5rcomMN7p4QHE7x/download/northwind_postgre.sql\n",
    "\n",
    "hint: psql -h hostname -d databasename -U username -f file.sql or with query"
   ]
  },
  {
   "cell_type": "markdown",
   "id": "af417a93",
   "metadata": {},
   "source": [
    "#### Meta commands\n",
    "\n",
    "psql --host=localhost --username=postgres  --dbname=tuberlin\n",
    "\n",
    "Meta commands are there to make live for a database administrator easier. Meta commands always start with a backslash (“\\”) often followed by just one single character:\n",
    "\n",
    "- \\h (or \\help)\tdisplays all commands\n",
    "\n",
    "- \\h CREATE DATABASE\tdisplays help on a specific command\n",
    "\n",
    "- \\l\tlist all databases\n",
    "\n",
    "- \\du\tdisplays all users\n",
    "\n",
    "- \\c (or \\connect) dbname\tconnect (or switch) to db called dbname\n",
    "\n",
    "- \\dt (just \\d also works)\tdisplay all tables within selected db\n",
    "\n",
    "- \\i\tinsert records from dump\n",
    "\n",
    "- \\q\tquit psql shell\n"
   ]
  },
  {
   "cell_type": "code",
   "execution_count": null,
   "id": "9c7933b1",
   "metadata": {},
   "outputs": [],
   "source": []
  },
  {
   "cell_type": "code",
   "execution_count": null,
   "id": "a2a761ae",
   "metadata": {},
   "outputs": [],
   "source": [
    "from dotenv import load_dotenv\n",
    "import os\n",
    "\n",
    "load_dotenv()\n",
    "\n",
    "USERNAME = os.getenv(\"USERNAME\")\n",
    "PASSWORD = os.getenv(\"PASSWORD\")\n",
    "HOST = os.getenv(\"HOST\")\n",
    "PORT = os.getenv(\"PORT\")\n",
    "DATABASE_NAME = os.getenv(\"DATABASE_NAME\")\n",
    "\n",
    "database_url = f'postgresql://{USERNAME}:{PASSWORD}@{HOST}:{PORT}/{DATABASE_NAME}'\n",
    "\n",
    "engine = create_engine(url=database_url, echo=True)"
   ]
  },
  {
   "cell_type": "code",
   "execution_count": null,
   "id": "70b9c1f6",
   "metadata": {},
   "outputs": [],
   "source": []
  },
  {
   "cell_type": "code",
   "execution_count": null,
   "id": "3f2faf47",
   "metadata": {},
   "outputs": [],
   "source": []
  },
  {
   "cell_type": "markdown",
   "id": "62b9505b",
   "metadata": {},
   "source": [
    "### Task18: Extract order information including order ID, customer contact name, and order date by performing an SQL query that joins the \"Orders\" table with the \"Customers\" table on the basis of customer IDs"
   ]
  },
  {
   "cell_type": "code",
   "execution_count": null,
   "id": "c5c919ec",
   "metadata": {},
   "outputs": [],
   "source": []
  },
  {
   "cell_type": "code",
   "execution_count": null,
   "id": "be0e9631",
   "metadata": {},
   "outputs": [],
   "source": []
  },
  {
   "cell_type": "code",
   "execution_count": null,
   "id": "ebfb8100",
   "metadata": {},
   "outputs": [],
   "source": []
  },
  {
   "cell_type": "markdown",
   "id": "f2cc6180",
   "metadata": {},
   "source": [
    "### Task18: Install requests library if not installed, then import it."
   ]
  },
  {
   "cell_type": "code",
   "execution_count": null,
   "id": "39566343",
   "metadata": {},
   "outputs": [],
   "source": []
  },
  {
   "cell_type": "markdown",
   "id": "3c7d30b4",
   "metadata": {},
   "source": [
    "### Task19: Send a GET request to retrieve posts URL (\"https://jsonplaceholder.typicode.com/posts\").\n",
    "\n",
    "You must check the response code 200 (<Response [200]>)."
   ]
  },
  {
   "cell_type": "code",
   "execution_count": null,
   "id": "c42f5ecb",
   "metadata": {},
   "outputs": [],
   "source": []
  },
  {
   "cell_type": "code",
   "execution_count": null,
   "id": "4bee32d9",
   "metadata": {},
   "outputs": [],
   "source": []
  },
  {
   "cell_type": "code",
   "execution_count": null,
   "id": "de9e6543",
   "metadata": {},
   "outputs": [],
   "source": []
  },
  {
   "cell_type": "markdown",
   "id": "31259bad",
   "metadata": {},
   "source": [
    "### Task20: If the response status code 200, convert response to JSON."
   ]
  },
  {
   "cell_type": "code",
   "execution_count": null,
   "id": "424b6f42",
   "metadata": {},
   "outputs": [],
   "source": []
  },
  {
   "cell_type": "code",
   "execution_count": null,
   "id": "bdc22f42",
   "metadata": {},
   "outputs": [],
   "source": []
  },
  {
   "cell_type": "code",
   "execution_count": null,
   "id": "f0037fab",
   "metadata": {},
   "outputs": [],
   "source": []
  },
  {
   "cell_type": "markdown",
   "id": "35e1f55f",
   "metadata": {},
   "source": [
    "### Task 21: Create a DataFrame from the JSON response and print the titles of the posts."
   ]
  },
  {
   "cell_type": "code",
   "execution_count": null,
   "id": "cf593a30",
   "metadata": {},
   "outputs": [],
   "source": []
  },
  {
   "cell_type": "code",
   "execution_count": null,
   "id": "9f0dd180",
   "metadata": {},
   "outputs": [],
   "source": []
  },
  {
   "cell_type": "code",
   "execution_count": null,
   "id": "5f8d88b8",
   "metadata": {},
   "outputs": [],
   "source": []
  }
 ],
 "metadata": {
  "kernelspec": {
   "display_name": "Python 3 (ipykernel)",
   "language": "python",
   "name": "python3"
  },
  "language_info": {
   "codemirror_mode": {
    "name": "ipython",
    "version": 3
   },
   "file_extension": ".py",
   "mimetype": "text/x-python",
   "name": "python",
   "nbconvert_exporter": "python",
   "pygments_lexer": "ipython3",
   "version": "3.10.9"
  }
 },
 "nbformat": 4,
 "nbformat_minor": 5
}
